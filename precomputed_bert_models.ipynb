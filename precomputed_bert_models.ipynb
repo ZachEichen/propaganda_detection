{
 "cells": [
  {
   "cell_type": "code",
   "execution_count": 97,
   "id": "6b8bc6fb-7f19-49ad-bca1-fc580882ab80",
   "metadata": {},
   "outputs": [
    {
     "name": "stdout",
     "output_type": "stream",
     "text": [
      "The autoreload extension is already loaded. To reload it, use:\n",
      "  %reload_ext autoreload\n",
      "\u001b[34m__pycache__\u001b[m\u001b[m                   model.py\n",
      "\u001b[34mbaselines\u001b[m\u001b[m                     new_model.py\n",
      "\u001b[34mdata_logical_fallacy\u001b[m\u001b[m          precomputed_bert_models.ipynb\n",
      "\u001b[34mdata_proppy\u001b[m\u001b[m                   proppy_transfer.ipynb\n",
      "data_speeches.csv             pytorch_train.py\n",
      "dataset.py                    readme.md\n",
      "dataset_bert.py               \u001b[34mresults\u001b[m\u001b[m\n",
      "hwaj_notebook.ipynb           \u001b[34msaved_models\u001b[m\u001b[m\n",
      "inference.ipynb               \u001b[34mtrainingOutput\u001b[m\u001b[m\n",
      "ingest_data_test.ipynb\n"
     ]
    }
   ],
   "source": [
    "%load_ext autoreload\n",
    "%autoreload 2\n",
    "\n",
    "import torch\n",
    "import transformers\n",
    "import pandas as pd \n",
    "import text_extensions_for_pandas as tp\n",
    "from tqdm import tqdm\n",
    "import numpy as np\n",
    "from pathlib import Path\n",
    "from torch.utils.data import DataLoader\n",
    "\n",
    "!ls"
   ]
  },
  {
   "cell_type": "code",
   "execution_count": 11,
   "id": "a0a7ac81-dfd8-4676-87f0-2982a2d78742",
   "metadata": {},
   "outputs": [
    {
     "data": {
      "text/html": [
       "<div>\n",
       "<style scoped>\n",
       "    .dataframe tbody tr th:only-of-type {\n",
       "        vertical-align: middle;\n",
       "    }\n",
       "\n",
       "    .dataframe tbody tr th {\n",
       "        vertical-align: top;\n",
       "    }\n",
       "\n",
       "    .dataframe thead th {\n",
       "        text-align: right;\n",
       "    }\n",
       "</style>\n",
       "<table border=\"1\" class=\"dataframe\">\n",
       "  <thead>\n",
       "    <tr style=\"text-align: right;\">\n",
       "      <th></th>\n",
       "      <th>text</th>\n",
       "      <th>average_tone</th>\n",
       "      <th>source_name</th>\n",
       "      <th>propaganda_label</th>\n",
       "    </tr>\n",
       "  </thead>\n",
       "  <tbody>\n",
       "    <tr>\n",
       "      <th>0</th>\n",
       "      <td>Convened to examine the causes of civil unrest...</td>\n",
       "      <td>-4.593640</td>\n",
       "      <td>The Hartford Courant</td>\n",
       "      <td>-1</td>\n",
       "    </tr>\n",
       "    <tr>\n",
       "      <th>1</th>\n",
       "      <td>Discriminating against someone on the basis of...</td>\n",
       "      <td>-1.566952</td>\n",
       "      <td>The Hartford Courant</td>\n",
       "      <td>-1</td>\n",
       "    </tr>\n",
       "    <tr>\n",
       "      <th>2</th>\n",
       "      <td>Bill Cosby's 44-year-old daughter, Ensa Cosby,...</td>\n",
       "      <td>-6.150660</td>\n",
       "      <td>The Hartford Courant</td>\n",
       "      <td>-1</td>\n",
       "    </tr>\n",
       "    <tr>\n",
       "      <th>3</th>\n",
       "      <td>The fast-moving, powerful theatrical locomotiv...</td>\n",
       "      <td>1.524390</td>\n",
       "      <td>The Hartford Courant</td>\n",
       "      <td>-1</td>\n",
       "    </tr>\n",
       "    <tr>\n",
       "      <th>4</th>\n",
       "      <td>It's Friday. It's National Pizza Day. Grab lif...</td>\n",
       "      <td>1.197605</td>\n",
       "      <td>The Hartford Courant</td>\n",
       "      <td>-1</td>\n",
       "    </tr>\n",
       "  </tbody>\n",
       "</table>\n",
       "</div>"
      ],
      "text/plain": [
       "                                                text  average_tone  \\\n",
       "0  Convened to examine the causes of civil unrest...     -4.593640   \n",
       "1  Discriminating against someone on the basis of...     -1.566952   \n",
       "2  Bill Cosby's 44-year-old daughter, Ensa Cosby,...     -6.150660   \n",
       "3  The fast-moving, powerful theatrical locomotiv...      1.524390   \n",
       "4  It's Friday. It's National Pizza Day. Grab lif...      1.197605   \n",
       "\n",
       "            source_name  propaganda_label  \n",
       "0  The Hartford Courant                -1  \n",
       "1  The Hartford Courant                -1  \n",
       "2  The Hartford Courant                -1  \n",
       "3  The Hartford Courant                -1  \n",
       "4  The Hartford Courant                -1  "
      ]
     },
     "execution_count": 11,
     "metadata": {},
     "output_type": "execute_result"
    }
   ],
   "source": [
    "colnames = ['text','event_location','average_tone','article_date','article_ID','article_URL_1','MBFC_factuality_label_1','article_URL','MBFC_factuality_label','URL_to_MBFC_page','source_name','MBFC_notes_about_source','MBFC_bias_label','source_URL','propaganda_label']\n",
    "proppy_dev = pd.read_csv(\"data_proppy/proppy_1.0.dev.tsv\",sep='\\t',names=colnames)[[\"text\",'average_tone','source_name','propaganda_label']]\n",
    "proppy_dev.head()"
   ]
  },
  {
   "cell_type": "code",
   "execution_count": null,
   "id": "9f9532e7-19cc-41a4-9264-5e28d234e21d",
   "metadata": {},
   "outputs": [
    {
     "name": "stderr",
     "output_type": "stream",
     "text": [
      "Some weights of the model checkpoint at bert-base-uncased were not used when initializing BertModel: ['cls.seq_relationship.weight', 'cls.predictions.transform.LayerNorm.bias', 'cls.predictions.decoder.weight', 'cls.predictions.transform.dense.weight', 'cls.predictions.bias', 'cls.predictions.transform.LayerNorm.weight', 'cls.predictions.transform.dense.bias', 'cls.seq_relationship.bias']\n",
      "- This IS expected if you are initializing BertModel from the checkpoint of a model trained on another task or with another architecture (e.g. initializing a BertForSequenceClassification model from a BertForPreTraining model).\n",
      "- This IS NOT expected if you are initializing BertModel from the checkpoint of a model that you expect to be exactly identical (initializing a BertForSequenceClassification model from a BertForSequenceClassification model).\n"
     ]
    }
   ],
   "source": [
    "bert_model_name = \"bert-base-uncased\"\n",
    "\n",
    "tokenizer = transformers.BertTokenizerFast.from_pretrained(bert_model_name, \n",
    "                                                           add_special_tokens=True)\n",
    "bert = transformers.BertModel.from_pretrained(bert_model_name)\n",
    "\n",
    "\n"
   ]
  },
  {
   "cell_type": "code",
   "execution_count": 39,
   "id": "3ec64e9e-6946-4366-bbe3-227cfaa7e566",
   "metadata": {},
   "outputs": [
    {
     "name": "stderr",
     "output_type": "stream",
     "text": [
      "5125it [3:37:40,  2.55s/it]\n"
     ]
    }
   ],
   "source": [
    "feats = np.zeros([len(proppy_dev),768])\n",
    "\n",
    "for i,row in tqdm(proppy_dev.iterrows()): \n",
    "    toks = tp.io.bert.make_bert_tokens(proppy_dev.text[i],tokenizer)\n",
    "    emb_df = tp.io.bert.add_embeddings(toks, bert)\n",
    "    feats[i,:] = emb_df.embedding.to_numpy().mean(axis=0)\n",
    "    \n",
    "    \n",
    "    "
   ]
  },
  {
   "cell_type": "code",
   "execution_count": 40,
   "id": "a3e3d9d2-b08d-44a1-b3f7-a149e2aa30be",
   "metadata": {},
   "outputs": [
    {
     "data": {
      "text/plain": [
       "5125"
      ]
     },
     "execution_count": 40,
     "metadata": {},
     "output_type": "execute_result"
    }
   ],
   "source": [
    "len(proppy_dev)"
   ]
  },
  {
   "cell_type": "code",
   "execution_count": 41,
   "id": "df2345bc-d04e-47af-86b2-182d0a80bc70",
   "metadata": {},
   "outputs": [
    {
     "data": {
      "text/plain": [
       "array([[-0.07519729,  0.1750659 ,  0.22689338, ..., -0.06930672,\n",
       "         0.06440458, -0.00516594],\n",
       "       [-0.10818958,  0.09823903,  0.13773319, ...,  0.04717225,\n",
       "        -0.00811862,  0.14017554],\n",
       "       [-0.13764539,  0.02021009,  0.24139456, ...,  0.03524834,\n",
       "         0.21321787, -0.08245312],\n",
       "       ...,\n",
       "       [-0.1374764 ,  0.10403664,  0.13267258, ..., -0.02726575,\n",
       "         0.19213852,  0.14666592],\n",
       "       [ 0.05461893,  0.3660191 ,  0.19056308, ..., -0.06918009,\n",
       "         0.20644763,  0.0774904 ],\n",
       "       [ 0.05102529,  0.07965963,  0.25242335, ..., -0.09123608,\n",
       "         0.2235851 ,  0.09679378]])"
      ]
     },
     "execution_count": 41,
     "metadata": {},
     "output_type": "execute_result"
    }
   ],
   "source": [
    "feats"
   ]
  },
  {
   "cell_type": "code",
   "execution_count": 42,
   "id": "90dd735b-2094-49a4-b5ca-1dbaea2f2984",
   "metadata": {},
   "outputs": [],
   "source": [
    "feats_pt = torch.from_numpy(feats)\n"
   ]
  },
  {
   "cell_type": "code",
   "execution_count": 44,
   "id": "66abd250-f98b-405a-b18b-f0d8e9da50d4",
   "metadata": {},
   "outputs": [],
   "source": [
    "torch.save(feats_pt,\"results/proppy_dev.pt\")"
   ]
  },
  {
   "cell_type": "code",
   "execution_count": null,
   "id": "973c8cae-25ef-4012-8e3a-2d210767fa32",
   "metadata": {},
   "outputs": [],
   "source": []
  },
  {
   "cell_type": "code",
   "execution_count": 294,
   "id": "b84520bb-0afe-4479-bfdb-4fefd46fda2c",
   "metadata": {},
   "outputs": [
    {
     "data": {
      "text/html": [
       "<div>\n",
       "<style scoped>\n",
       "    .dataframe tbody tr th:only-of-type {\n",
       "        vertical-align: middle;\n",
       "    }\n",
       "\n",
       "    .dataframe tbody tr th {\n",
       "        vertical-align: top;\n",
       "    }\n",
       "\n",
       "    .dataframe thead th {\n",
       "        text-align: right;\n",
       "    }\n",
       "</style>\n",
       "<table border=\"1\" class=\"dataframe\">\n",
       "  <thead>\n",
       "    <tr style=\"text-align: right;\">\n",
       "      <th></th>\n",
       "      <th>text</th>\n",
       "      <th>average_tone</th>\n",
       "      <th>source_name</th>\n",
       "      <th>propaganda_label</th>\n",
       "    </tr>\n",
       "  </thead>\n",
       "  <tbody>\n",
       "    <tr>\n",
       "      <th>0</th>\n",
       "      <td>Et tu, Rhody?  A recent editorial in the Provi...</td>\n",
       "      <td>-3.181818</td>\n",
       "      <td>The Hartford Courant</td>\n",
       "      <td>-1</td>\n",
       "    </tr>\n",
       "    <tr>\n",
       "      <th>1</th>\n",
       "      <td>A recent post in The Farmington Mirror — our t...</td>\n",
       "      <td>-0.424328</td>\n",
       "      <td>The Hartford Courant</td>\n",
       "      <td>-1</td>\n",
       "    </tr>\n",
       "    <tr>\n",
       "      <th>2</th>\n",
       "      <td>President Donald Trump, as he often does while...</td>\n",
       "      <td>-2.469136</td>\n",
       "      <td>The Hartford Courant</td>\n",
       "      <td>-1</td>\n",
       "    </tr>\n",
       "    <tr>\n",
       "      <th>3</th>\n",
       "      <td>February is Black History Month, and nothing l...</td>\n",
       "      <td>-0.894632</td>\n",
       "      <td>The Hartford Courant</td>\n",
       "      <td>-1</td>\n",
       "    </tr>\n",
       "    <tr>\n",
       "      <th>4</th>\n",
       "      <td>The snow was so heavy, whipped up by gusting w...</td>\n",
       "      <td>-4.800000</td>\n",
       "      <td>The Hartford Courant</td>\n",
       "      <td>-1</td>\n",
       "    </tr>\n",
       "  </tbody>\n",
       "</table>\n",
       "</div>"
      ],
      "text/plain": [
       "                                                text  average_tone  \\\n",
       "0  Et tu, Rhody?  A recent editorial in the Provi...     -3.181818   \n",
       "1  A recent post in The Farmington Mirror — our t...     -0.424328   \n",
       "2  President Donald Trump, as he often does while...     -2.469136   \n",
       "3  February is Black History Month, and nothing l...     -0.894632   \n",
       "4  The snow was so heavy, whipped up by gusting w...     -4.800000   \n",
       "\n",
       "            source_name  propaganda_label  \n",
       "0  The Hartford Courant                -1  \n",
       "1  The Hartford Courant                -1  \n",
       "2  The Hartford Courant                -1  \n",
       "3  The Hartford Courant                -1  \n",
       "4  The Hartford Courant                -1  "
      ]
     },
     "execution_count": 294,
     "metadata": {},
     "output_type": "execute_result"
    }
   ],
   "source": [
    "proppy_train = pd.read_csv(\"data_proppy/proppy_1.0.train.tsv\",sep='\\t',names=colnames)[[\"text\",'average_tone','source_name','propaganda_label']]\n",
    "proppy_train.head()"
   ]
  },
  {
   "cell_type": "code",
   "execution_count": 305,
   "id": "c94da1d0-4c68-45d4-a351-2f7705c86ab2",
   "metadata": {},
   "outputs": [
    {
     "data": {
      "text/html": [
       "<div>\n",
       "<style scoped>\n",
       "    .dataframe tbody tr th:only-of-type {\n",
       "        vertical-align: middle;\n",
       "    }\n",
       "\n",
       "    .dataframe tbody tr th {\n",
       "        vertical-align: top;\n",
       "    }\n",
       "\n",
       "    .dataframe thead th {\n",
       "        text-align: right;\n",
       "    }\n",
       "</style>\n",
       "<table border=\"1\" class=\"dataframe\">\n",
       "  <thead>\n",
       "    <tr style=\"text-align: right;\">\n",
       "      <th></th>\n",
       "      <th>count</th>\n",
       "      <th>perc</th>\n",
       "    </tr>\n",
       "    <tr>\n",
       "      <th>propaganda_label</th>\n",
       "      <th></th>\n",
       "      <th></th>\n",
       "    </tr>\n",
       "  </thead>\n",
       "  <tbody>\n",
       "    <tr>\n",
       "      <th>-1</th>\n",
       "      <td>31965</td>\n",
       "      <td>0.888262</td>\n",
       "    </tr>\n",
       "    <tr>\n",
       "      <th>1</th>\n",
       "      <td>4021</td>\n",
       "      <td>0.111738</td>\n",
       "    </tr>\n",
       "  </tbody>\n",
       "</table>\n",
       "</div>"
      ],
      "text/plain": [
       "                  count      perc\n",
       "propaganda_label                 \n",
       "-1                31965  0.888262\n",
       " 1                 4021  0.111738"
      ]
     },
     "execution_count": 305,
     "metadata": {},
     "output_type": "execute_result"
    }
   ],
   "source": [
    "ratios = proppy_train[[\"text\",\"propaganda_label\"]].rename(columns={'text':'count'}).groupby(\"propaganda_label\").count()\n",
    "\n",
    "ratios[\"perc\"] = ratios['count']/ ratios['count'].to_numpy().sum()\n",
    "ratios"
   ]
  },
  {
   "cell_type": "code",
   "execution_count": 47,
   "id": "8f5a9770-5ea0-4162-8ce9-09642da7b2ef",
   "metadata": {},
   "outputs": [
    {
     "name": "stderr",
     "output_type": "stream",
     "text": [
      "35986it [25:19:36,  2.53s/it]\n"
     ]
    }
   ],
   "source": [
    "feats_train = np.zeros([len(proppy_train),768])\n",
    "\n",
    "for i,row in tqdm(proppy_train.iterrows()): \n",
    "    toks = tp.io.bert.make_bert_tokens(proppy_train.text[i],tokenizer)\n",
    "    emb_df = tp.io.bert.add_embeddings(toks, bert)\n",
    "    feats_train[i,:] = emb_df.embedding.to_numpy().mean(axis=0)"
   ]
  },
  {
   "cell_type": "code",
   "execution_count": 48,
   "id": "352bca59-67b5-44ab-a2d8-a53671002dd0",
   "metadata": {},
   "outputs": [],
   "source": [
    "train_pt = torch.from_numpy(feats_train)\n",
    "torch.save(train_pt,\"results/proppy_train.pt\")"
   ]
  },
  {
   "cell_type": "code",
   "execution_count": null,
   "id": "262903b6-3b68-4f53-939d-f10666659554",
   "metadata": {},
   "outputs": [],
   "source": []
  },
  {
   "cell_type": "code",
   "execution_count": 49,
   "id": "0bf71b31-e1c1-4a9b-9e48-71e679ad6e53",
   "metadata": {},
   "outputs": [
    {
     "data": {
      "text/html": [
       "<div>\n",
       "<style scoped>\n",
       "    .dataframe tbody tr th:only-of-type {\n",
       "        vertical-align: middle;\n",
       "    }\n",
       "\n",
       "    .dataframe tbody tr th {\n",
       "        vertical-align: top;\n",
       "    }\n",
       "\n",
       "    .dataframe thead th {\n",
       "        text-align: right;\n",
       "    }\n",
       "</style>\n",
       "<table border=\"1\" class=\"dataframe\">\n",
       "  <thead>\n",
       "    <tr style=\"text-align: right;\">\n",
       "      <th></th>\n",
       "      <th>text</th>\n",
       "      <th>average_tone</th>\n",
       "      <th>source_name</th>\n",
       "      <th>propaganda_label</th>\n",
       "    </tr>\n",
       "  </thead>\n",
       "  <tbody>\n",
       "    <tr>\n",
       "      <th>0</th>\n",
       "      <td>Eat in Connecticut teamed up with End Hunger C...</td>\n",
       "      <td>0.781250</td>\n",
       "      <td>The Hartford Courant</td>\n",
       "      <td>-1</td>\n",
       "    </tr>\n",
       "    <tr>\n",
       "      <th>1</th>\n",
       "      <td>Owners of an old Pennsylvania power plant that...</td>\n",
       "      <td>-1.615799</td>\n",
       "      <td>The Hartford Courant</td>\n",
       "      <td>-1</td>\n",
       "    </tr>\n",
       "    <tr>\n",
       "      <th>2</th>\n",
       "      <td>The majority owner of President Donald Trump's...</td>\n",
       "      <td>-4.177546</td>\n",
       "      <td>The Hartford Courant</td>\n",
       "      <td>-1</td>\n",
       "    </tr>\n",
       "    <tr>\n",
       "      <th>3</th>\n",
       "      <td>Connecticut’s most likely option for using tol...</td>\n",
       "      <td>-7.200811</td>\n",
       "      <td>The Hartford Courant</td>\n",
       "      <td>-1</td>\n",
       "    </tr>\n",
       "    <tr>\n",
       "      <th>4</th>\n",
       "      <td>Escaped prisoner Jerry Mercado is back in Conn...</td>\n",
       "      <td>-6.534091</td>\n",
       "      <td>The Hartford Courant</td>\n",
       "      <td>-1</td>\n",
       "    </tr>\n",
       "  </tbody>\n",
       "</table>\n",
       "</div>"
      ],
      "text/plain": [
       "                                                text  average_tone  \\\n",
       "0  Eat in Connecticut teamed up with End Hunger C...      0.781250   \n",
       "1  Owners of an old Pennsylvania power plant that...     -1.615799   \n",
       "2  The majority owner of President Donald Trump's...     -4.177546   \n",
       "3  Connecticut’s most likely option for using tol...     -7.200811   \n",
       "4  Escaped prisoner Jerry Mercado is back in Conn...     -6.534091   \n",
       "\n",
       "            source_name  propaganda_label  \n",
       "0  The Hartford Courant                -1  \n",
       "1  The Hartford Courant                -1  \n",
       "2  The Hartford Courant                -1  \n",
       "3  The Hartford Courant                -1  \n",
       "4  The Hartford Courant                -1  "
      ]
     },
     "execution_count": 49,
     "metadata": {},
     "output_type": "execute_result"
    }
   ],
   "source": [
    "proppy_test = pd.read_csv(\"data_proppy/proppy_1.0.test.tsv\",sep='\\t',names=colnames)[[\"text\",'average_tone','source_name','propaganda_label']]\n",
    "proppy_test.head()"
   ]
  },
  {
   "cell_type": "code",
   "execution_count": 50,
   "id": "3d9906f5-a72f-42d9-b79c-ca9a90854948",
   "metadata": {},
   "outputs": [
    {
     "name": "stderr",
     "output_type": "stream",
     "text": [
      "10159it [6:41:51,  2.37s/it]\n"
     ]
    }
   ],
   "source": [
    "feats_test = np.zeros([len(proppy_test),768])\n",
    "\n",
    "for i,row in tqdm(proppy_test.iterrows()): \n",
    "    toks = tp.io.bert.make_bert_tokens(proppy_test.text[i],tokenizer)\n",
    "    emb_df = tp.io.bert.add_embeddings(toks, bert)\n",
    "    feats_test[i,:] = emb_df.embedding.to_numpy().mean(axis=0)\n",
    "    "
   ]
  },
  {
   "cell_type": "code",
   "execution_count": 221,
   "id": "6f16db5c-bfa5-49c7-9421-f036f0376219",
   "metadata": {},
   "outputs": [],
   "source": [
    "test_pt = torch.from_numpy(feats_test)\n",
    "torch.save(test_pt,\"results/proppy_test.pt\")"
   ]
  },
  {
   "cell_type": "code",
   "execution_count": 63,
   "id": "05d6e715-7b81-4e3b-a3a9-c73c685d750f",
   "metadata": {},
   "outputs": [],
   "source": [
    "# define funct that does ^ \n",
    "def make_emb_vecs(df, tokenizer, bert, out_file_name = None, text_col = \"text\"): \n",
    "    feats = np.zeros([len(df),768])\n",
    "    for i in tqdm(range(len(df))): \n",
    "        toks = tp.io.bert.make_bert_tokens(df.loc[i,text_col],tokenizer)\n",
    "        emb_df = tp.io.bert.add_embeddings(toks,bert) \n",
    "        feats[i,:] = emb_df.embedding.to_numpy().mean(axis=0)\n",
    "    if out_file_name is not None: \n",
    "        torch.save(torch.from_numpy(feats),out_file_name)\n",
    "    return feats \n"
   ]
  },
  {
   "cell_type": "code",
   "execution_count": 65,
   "id": "7a293690-2bde-429a-b51c-09b43f161e5e",
   "metadata": {},
   "outputs": [
    {
     "data": {
      "text/html": [
       "<div>\n",
       "<style scoped>\n",
       "    .dataframe tbody tr th:only-of-type {\n",
       "        vertical-align: middle;\n",
       "    }\n",
       "\n",
       "    .dataframe tbody tr th {\n",
       "        vertical-align: top;\n",
       "    }\n",
       "\n",
       "    .dataframe thead th {\n",
       "        text-align: right;\n",
       "    }\n",
       "</style>\n",
       "<table border=\"1\" class=\"dataframe\">\n",
       "  <thead>\n",
       "    <tr style=\"text-align: right;\">\n",
       "      <th></th>\n",
       "      <th>Unnamed: 0</th>\n",
       "      <th>original_url</th>\n",
       "      <th>source_article</th>\n",
       "      <th>logical_fallacies</th>\n",
       "    </tr>\n",
       "  </thead>\n",
       "  <tbody>\n",
       "    <tr>\n",
       "      <th>0</th>\n",
       "      <td>52</td>\n",
       "      <td>https://www.thesun.co.uk/tech/11044576/new-isl...</td>\n",
       "      <td>Rising temperatures in Antarctica over the pas...</td>\n",
       "      <td>false causality</td>\n",
       "    </tr>\n",
       "    <tr>\n",
       "      <th>1</th>\n",
       "      <td>1226</td>\n",
       "      <td>https://www.forbes.com/sites/robertbradley/201...</td>\n",
       "      <td>Green activists are at war with the greatest A...</td>\n",
       "      <td>intentional</td>\n",
       "    </tr>\n",
       "    <tr>\n",
       "      <th>2</th>\n",
       "      <td>413</td>\n",
       "      <td>https://www.bostonglobe.com/opinion/columns/20...</td>\n",
       "      <td>The list of variables that shape climate inclu...</td>\n",
       "      <td>fallacy of extension</td>\n",
       "    </tr>\n",
       "    <tr>\n",
       "      <th>3</th>\n",
       "      <td>1112</td>\n",
       "      <td>http://www.breitbart.com/big-government/2017/0...</td>\n",
       "      <td>What all these papers argue in their different...</td>\n",
       "      <td>intentional</td>\n",
       "    </tr>\n",
       "    <tr>\n",
       "      <th>4</th>\n",
       "      <td>559</td>\n",
       "      <td>https://www.forbes.com/sites/jamestaylor/2015/...</td>\n",
       "      <td>The Facts\\n\\nGlobal warming alarmists ’ prefer...</td>\n",
       "      <td>fallacy of logic</td>\n",
       "    </tr>\n",
       "    <tr>\n",
       "      <th>...</th>\n",
       "      <td>...</td>\n",
       "      <td>...</td>\n",
       "      <td>...</td>\n",
       "      <td>...</td>\n",
       "    </tr>\n",
       "    <tr>\n",
       "      <th>195</th>\n",
       "      <td>1341</td>\n",
       "      <td>https://www.telegraph.co.uk/news/science/11733...</td>\n",
       "      <td>The earth is 15 years from a period of low sol...</td>\n",
       "      <td>intentional</td>\n",
       "    </tr>\n",
       "    <tr>\n",
       "      <th>196</th>\n",
       "      <td>1018</td>\n",
       "      <td>https://www.theatlantic.com/health/archive/201...</td>\n",
       "      <td>To understand why the climate impact of beef a...</td>\n",
       "      <td>fallacy of logic</td>\n",
       "    </tr>\n",
       "    <tr>\n",
       "      <th>197</th>\n",
       "      <td>375</td>\n",
       "      <td>http://www.cnn.com/2017/05/29/opinions/withdra...</td>\n",
       "      <td>And as soon as possible , President Trump shou...</td>\n",
       "      <td>fallacy of extension</td>\n",
       "    </tr>\n",
       "    <tr>\n",
       "      <th>198</th>\n",
       "      <td>1165</td>\n",
       "      <td>https://www.telegraph.co.uk/news/2017/05/06/an...</td>\n",
       "      <td>Inevitably , when even satellite temperatures ...</td>\n",
       "      <td>intentional</td>\n",
       "    </tr>\n",
       "    <tr>\n",
       "      <th>199</th>\n",
       "      <td>1051</td>\n",
       "      <td>http://www.theaustralian.com.au/opinion/misgui...</td>\n",
       "      <td>The worldwide temperature record has been chan...</td>\n",
       "      <td>intentional</td>\n",
       "    </tr>\n",
       "  </tbody>\n",
       "</table>\n",
       "<p>200 rows × 4 columns</p>\n",
       "</div>"
      ],
      "text/plain": [
       "     Unnamed: 0                                       original_url  \\\n",
       "0            52  https://www.thesun.co.uk/tech/11044576/new-isl...   \n",
       "1          1226  https://www.forbes.com/sites/robertbradley/201...   \n",
       "2           413  https://www.bostonglobe.com/opinion/columns/20...   \n",
       "3          1112  http://www.breitbart.com/big-government/2017/0...   \n",
       "4           559  https://www.forbes.com/sites/jamestaylor/2015/...   \n",
       "..          ...                                                ...   \n",
       "195        1341  https://www.telegraph.co.uk/news/science/11733...   \n",
       "196        1018  https://www.theatlantic.com/health/archive/201...   \n",
       "197         375  http://www.cnn.com/2017/05/29/opinions/withdra...   \n",
       "198        1165  https://www.telegraph.co.uk/news/2017/05/06/an...   \n",
       "199        1051  http://www.theaustralian.com.au/opinion/misgui...   \n",
       "\n",
       "                                        source_article     logical_fallacies  \n",
       "0    Rising temperatures in Antarctica over the pas...       false causality  \n",
       "1    Green activists are at war with the greatest A...           intentional  \n",
       "2    The list of variables that shape climate inclu...  fallacy of extension  \n",
       "3    What all these papers argue in their different...           intentional  \n",
       "4    The Facts\\n\\nGlobal warming alarmists ’ prefer...      fallacy of logic  \n",
       "..                                                 ...                   ...  \n",
       "195  The earth is 15 years from a period of low sol...           intentional  \n",
       "196  To understand why the climate impact of beef a...      fallacy of logic  \n",
       "197  And as soon as possible , President Trump shou...  fallacy of extension  \n",
       "198  Inevitably , when even satellite temperatures ...           intentional  \n",
       "199  The worldwide temperature record has been chan...           intentional  \n",
       "\n",
       "[200 rows x 4 columns]"
      ]
     },
     "execution_count": 65,
     "metadata": {},
     "output_type": "execute_result"
    }
   ],
   "source": [
    "train_fal_df = pd.read_csv(\"data_logical_fallacy/climate_train.csv\")\n",
    "test_fal_df  = pd.read_csv(\"data_logical_fallacy/climate_test.csv\")\n",
    "dev_fal_df   = pd.read_csv(\"data_logical_fallacy/climate_dev.csv\")\n",
    "dev_fal_df"
   ]
  },
  {
   "cell_type": "code",
   "execution_count": 12,
   "id": "f07b0b26-438f-43d6-aca5-e9ec750b0648",
   "metadata": {},
   "outputs": [
    {
     "ename": "NameError",
     "evalue": "name 'make_emb_vecs' is not defined",
     "output_type": "error",
     "traceback": [
      "\u001b[0;31m---------------------------------------------------------------------------\u001b[0m",
      "\u001b[0;31mNameError\u001b[0m                                 Traceback (most recent call last)",
      "\u001b[0;32m/var/folders/t2/zj8pbr4n4lqgcxpzd2lbwk2w0000gn/T/ipykernel_99739/3910011756.py\u001b[0m in \u001b[0;36m<module>\u001b[0;34m\u001b[0m\n\u001b[0;32m----> 1\u001b[0;31m \u001b[0mfal_train_feats\u001b[0m \u001b[0;34m=\u001b[0m \u001b[0mmake_emb_vecs\u001b[0m\u001b[0;34m(\u001b[0m\u001b[0mtrain_fal_df\u001b[0m\u001b[0;34m,\u001b[0m\u001b[0mtokenizer\u001b[0m\u001b[0;34m,\u001b[0m\u001b[0mbert\u001b[0m\u001b[0;34m,\u001b[0m\u001b[0;34m\"results/climate_train.pt\"\u001b[0m\u001b[0;34m,\u001b[0m\u001b[0mtext_col\u001b[0m \u001b[0;34m=\u001b[0m \u001b[0;34m\"source_article\"\u001b[0m\u001b[0;34m)\u001b[0m\u001b[0;34m\u001b[0m\u001b[0;34m\u001b[0m\u001b[0m\n\u001b[0m\u001b[1;32m      2\u001b[0m \u001b[0mfal_dev_feats\u001b[0m \u001b[0;34m=\u001b[0m \u001b[0mmake_emb_vecs\u001b[0m\u001b[0;34m(\u001b[0m\u001b[0mdev_fal_df\u001b[0m\u001b[0;34m,\u001b[0m\u001b[0mtokenizer\u001b[0m\u001b[0;34m,\u001b[0m\u001b[0mbert\u001b[0m\u001b[0;34m,\u001b[0m\u001b[0;34m\"results/climate_dev.pt\"\u001b[0m\u001b[0;34m,\u001b[0m\u001b[0mtext_col\u001b[0m \u001b[0;34m=\u001b[0m \u001b[0;34m\"source_article\"\u001b[0m\u001b[0;34m)\u001b[0m\u001b[0;34m\u001b[0m\u001b[0;34m\u001b[0m\u001b[0m\n\u001b[1;32m      3\u001b[0m \u001b[0mfal_test_feats\u001b[0m \u001b[0;34m=\u001b[0m \u001b[0mmake_emb_vecs\u001b[0m\u001b[0;34m(\u001b[0m\u001b[0mtest_fal_df\u001b[0m\u001b[0;34m,\u001b[0m\u001b[0mtokenizer\u001b[0m\u001b[0;34m,\u001b[0m\u001b[0mbert\u001b[0m\u001b[0;34m,\u001b[0m\u001b[0;34m\"results/climate_test.pt\"\u001b[0m\u001b[0;34m,\u001b[0m\u001b[0mtext_col\u001b[0m \u001b[0;34m=\u001b[0m \u001b[0;34m\"source_article\"\u001b[0m\u001b[0;34m)\u001b[0m\u001b[0;34m\u001b[0m\u001b[0;34m\u001b[0m\u001b[0m\n",
      "\u001b[0;31mNameError\u001b[0m: name 'make_emb_vecs' is not defined"
     ]
    }
   ],
   "source": [
    "fal_train_feats = make_emb_vecs(train_fal_df,tokenizer,bert,\"results/climate_train.pt\",text_col = \"source_article\")\n",
    "fal_dev_feats = make_emb_vecs(dev_fal_df,tokenizer,bert,\"results/climate_dev.pt\",text_col = \"source_article\")\n",
    "fal_test_feats = make_emb_vecs(test_fal_df,tokenizer,bert,\"results/climate_test.pt\",text_col = \"source_article\")\n",
    "\n"
   ]
  },
  {
   "cell_type": "code",
   "execution_count": 192,
   "id": "da879964-0a3b-44be-8dae-5a37cfb69fe6",
   "metadata": {},
   "outputs": [],
   "source": [
    "# pre-train on\n",
    "from dataset_bert import FallacyDatasetEmb\n",
    "from pathlib import Path\n",
    "data_train = FallacyDatasetEmb(Path(\"data_logical_fallacy\",\"climate_train.csv\"),\n",
    "                            Path(\"results\",\"climate_train.pt\"),\n",
    "                            label_header=\"logical_fallacies\")\n",
    "data_dev = FallacyDatasetEmb(Path(\"data_logical_fallacy\",\"climate_dev.csv\"),\n",
    "                            Path(\"results\",\"climate_dev.pt\"),\n",
    "                            label_header=\"logical_fallacies\")\n",
    "data_test = FallacyDatasetEmb(Path(\"data_logical_fallacy\",\"climate_test.csv\"),\n",
    "                            Path(\"results\",\"climate_test.pt\"),\n",
    "                            label_header=\"logical_fallacies\")"
   ]
  },
  {
   "cell_type": "code",
   "execution_count": 201,
   "id": "2ec21b03-33bf-4a82-8fc9-c9c8f16d1def",
   "metadata": {},
   "outputs": [],
   "source": [
    "from torch.utils.data import DataLoader\n",
    "\n",
    "fal_train_loader = DataLoader(data_train,batch_size=16,shuffle=True)\n",
    "fal_dev_loader = DataLoader(data_dev,batch_size=16,shuffle=True)\n",
    "fal_test_loader = DataLoader(data_test,batch_size=16,shuffle=True)"
   ]
  },
  {
   "cell_type": "code",
   "execution_count": 254,
   "id": "e8bebae4-fd25-4e30-804c-3963ac4b002c",
   "metadata": {
    "scrolled": true,
    "tags": []
   },
   "outputs": [
    {
     "data": {
      "text/html": [
       "<div>\n",
       "<style scoped>\n",
       "    .dataframe tbody tr th:only-of-type {\n",
       "        vertical-align: middle;\n",
       "    }\n",
       "\n",
       "    .dataframe tbody tr th {\n",
       "        vertical-align: top;\n",
       "    }\n",
       "\n",
       "    .dataframe thead th {\n",
       "        text-align: right;\n",
       "    }\n",
       "</style>\n",
       "<table border=\"1\" class=\"dataframe\">\n",
       "  <thead>\n",
       "    <tr style=\"text-align: right;\">\n",
       "      <th>label</th>\n",
       "      <th>0</th>\n",
       "      <th>1</th>\n",
       "      <th>2</th>\n",
       "      <th>3</th>\n",
       "      <th>4</th>\n",
       "      <th>5</th>\n",
       "      <th>6</th>\n",
       "      <th>7</th>\n",
       "      <th>8</th>\n",
       "      <th>9</th>\n",
       "      <th>10</th>\n",
       "      <th>11</th>\n",
       "      <th>12</th>\n",
       "    </tr>\n",
       "  </thead>\n",
       "  <tbody>\n",
       "    <tr>\n",
       "      <th>Counts</th>\n",
       "      <td>79.000000</td>\n",
       "      <td>99.000000</td>\n",
       "      <td>54.000000</td>\n",
       "      <td>243.000000</td>\n",
       "      <td>92.000000</td>\n",
       "      <td>53.000000</td>\n",
       "      <td>49.000000</td>\n",
       "      <td>98.000000</td>\n",
       "      <td>44.000000</td>\n",
       "      <td>39.000000</td>\n",
       "      <td>5.000000</td>\n",
       "      <td>78.000000</td>\n",
       "      <td>18.000000</td>\n",
       "    </tr>\n",
       "    <tr>\n",
       "      <th>perc</th>\n",
       "      <td>0.083070</td>\n",
       "      <td>0.104101</td>\n",
       "      <td>0.056782</td>\n",
       "      <td>0.255521</td>\n",
       "      <td>0.096740</td>\n",
       "      <td>0.055731</td>\n",
       "      <td>0.051525</td>\n",
       "      <td>0.103049</td>\n",
       "      <td>0.046267</td>\n",
       "      <td>0.041009</td>\n",
       "      <td>0.005258</td>\n",
       "      <td>0.082019</td>\n",
       "      <td>0.018927</td>\n",
       "    </tr>\n",
       "    <tr>\n",
       "      <th>anti_perc</th>\n",
       "      <td>12.037975</td>\n",
       "      <td>9.606061</td>\n",
       "      <td>17.611111</td>\n",
       "      <td>3.913580</td>\n",
       "      <td>10.336957</td>\n",
       "      <td>17.943396</td>\n",
       "      <td>19.408163</td>\n",
       "      <td>9.704082</td>\n",
       "      <td>21.613636</td>\n",
       "      <td>24.384615</td>\n",
       "      <td>190.200000</td>\n",
       "      <td>12.192308</td>\n",
       "      <td>52.833333</td>\n",
       "    </tr>\n",
       "    <tr>\n",
       "      <th>corr</th>\n",
       "      <td>0.029961</td>\n",
       "      <td>0.023908</td>\n",
       "      <td>0.043832</td>\n",
       "      <td>0.009740</td>\n",
       "      <td>0.025728</td>\n",
       "      <td>0.044659</td>\n",
       "      <td>0.048305</td>\n",
       "      <td>0.024152</td>\n",
       "      <td>0.053794</td>\n",
       "      <td>0.060691</td>\n",
       "      <td>0.473387</td>\n",
       "      <td>0.030345</td>\n",
       "      <td>0.131496</td>\n",
       "    </tr>\n",
       "  </tbody>\n",
       "</table>\n",
       "</div>"
      ],
      "text/plain": [
       "label             0          1          2           3          4          5   \\\n",
       "Counts     79.000000  99.000000  54.000000  243.000000  92.000000  53.000000   \n",
       "perc        0.083070   0.104101   0.056782    0.255521   0.096740   0.055731   \n",
       "anti_perc  12.037975   9.606061  17.611111    3.913580  10.336957  17.943396   \n",
       "corr        0.029961   0.023908   0.043832    0.009740   0.025728   0.044659   \n",
       "\n",
       "label             6          7          8          9           10         11  \\\n",
       "Counts     49.000000  98.000000  44.000000  39.000000    5.000000  78.000000   \n",
       "perc        0.051525   0.103049   0.046267   0.041009    0.005258   0.082019   \n",
       "anti_perc  19.408163   9.704082  21.613636  24.384615  190.200000  12.192308   \n",
       "corr        0.048305   0.024152   0.053794   0.060691    0.473387   0.030345   \n",
       "\n",
       "label             12  \n",
       "Counts     18.000000  \n",
       "perc        0.018927  \n",
       "anti_perc  52.833333  \n",
       "corr        0.131496  "
      ]
     },
     "execution_count": 254,
     "metadata": {},
     "output_type": "execute_result"
    }
   ],
   "source": [
    "from collections import Counter\n",
    "counts = Counter(datum['label'] for datum in data_train)\n",
    "counts = pd.DataFrame({\"Counts\":pd.Series(counts)})\n",
    "counts.index.names= [\"label\"]\n",
    "counts['perc'] = counts['Counts']/counts['Counts'].sum()\n",
    "counts['anti_perc'] = 1/counts['perc']\n",
    "counts['corr'] = counts.anti_perc/counts.anti_perc.sum()\n",
    "by_class_corr = counts['corr'].to_numpy()\n",
    "counts.transpose()"
   ]
  },
  {
   "cell_type": "code",
   "execution_count": 302,
   "id": "b39a1212-61e0-4ea0-85cc-9a6e90fb1cb9",
   "metadata": {
    "tags": []
   },
   "outputs": [
    {
     "name": "stderr",
     "output_type": "stream",
     "text": [
      "100%|███████████████████████████████████████████████████████████████████████████████████████████████| 200/200 [00:12<00:00, 15.43it/s]\n"
     ]
    }
   ],
   "source": [
    "from torch.optim import AdamW\n",
    "from new_model import FallacyModel\n",
    "from torch.nn import CrossEntropyLoss\n",
    "from sklearn.metrics import f1_score, accuracy_score\n",
    "\n",
    "\n",
    "device = 'cuda' if torch.cuda.is_available() else 'cpu' \n",
    "\n",
    "fmodel = FallacyModel(n_hiddens=20,dropout=0.5).to(device)\n",
    "optim = AdamW(fmodel.parameters(), lr = 1e-4,weight_decay = 1e-5)\n",
    "loss_fn = CrossEntropyLoss(weight=torch.from_numpy(by_class_corr).float())\n",
    "\n",
    "fmodel.train()\n",
    "train_losses = []\n",
    "train_accs = []\n",
    "dev_losses = []\n",
    "dev_accs = []\n",
    "test_accs = []\n",
    "\n",
    "for epoch in (pbar := tqdm(range(200))): \n",
    "    preds = []\n",
    "    labs = []\n",
    "    losses = [] \n",
    "    for batch in fal_train_loader: \n",
    "        optim.zero_grad()\n",
    "        labels = batch['label'].to(device)\n",
    "        feats = batch['feats'].to(device)\n",
    "\n",
    "        out = fmodel(feats)\n",
    "        loss = loss_fn(out,labels)\n",
    "        loss.backward()\n",
    "        optim.step()\n",
    "        preds += torch.argmax(out,dim=1).cpu().tolist() \n",
    "        labs += batch['label'].tolist()\n",
    "        losses.append(float(loss.cpu()))\n",
    "    train_losses.append(sum(losses)/len(losses))\n",
    "    train_accs.append(accuracy_score(labs,preds))\n",
    "    # test model on dev set \n",
    "    fmodel.eval()\n",
    "    dev_los_acc = []\n",
    "    dev_preds = []\n",
    "    dev_labels = []\n",
    "    for batch in fal_dev_loader: \n",
    "        labels = batch['label'].to(device)\n",
    "        feats = batch['feats'].to(device)\n",
    "\n",
    "        out = fmodel(feats)\n",
    "        loss = loss_fn(out,labels)\n",
    "        dev_preds += torch.argmax(out,dim=1).cpu().tolist() \n",
    "        dev_labels += batch['label'].tolist()\n",
    "        dev_los_acc.append(float(loss.cpu()))\n",
    "    dev_losses.append(sum(dev_los_acc)/len(dev_los_acc))\n",
    "    dev_accs.append(accuracy_score(dev_labels,dev_preds))\n",
    "    \n",
    "    test_los_acc = []\n",
    "    test_preds = []\n",
    "    test_labels = []\n",
    "    for batch in fal_test_loader: \n",
    "        labels = batch['label'].to(device)\n",
    "        feats = batch['feats'].to(device)\n",
    "\n",
    "        out = fmodel(feats)\n",
    "        loss = loss_fn(out,labels)\n",
    "        test_preds += torch.argmax(out,dim=1).cpu().tolist() \n",
    "        test_labels += batch['label'].tolist()\n",
    "        test_los_acc.append(float(loss.cpu()))\n",
    "    test_accs.append(accuracy_score(test_labels,test_preds))\n",
    "\n",
    "    pbar.set_description(f'dev acc: {dev_accs[-1]}')\n",
    "\n",
    "    fmodel.train()\n",
    "    # print(f'at epoch {epoch}, train L: {train_losses[-1]}, Dev L: {dev_losses[-1]}') \n",
    "    "
   ]
  },
  {
   "cell_type": "code",
   "execution_count": 306,
   "id": "f6446e1f-88b9-4b5a-9d96-5123d17c6fbb",
   "metadata": {},
   "outputs": [
    {
     "data": {
      "text/plain": [
       "[<matplotlib.lines.Line2D at 0x7fd7a55fe400>]"
      ]
     },
     "execution_count": 306,
     "metadata": {},
     "output_type": "execute_result"
    },
    {
     "data": {
      "image/png": "[encoded data removed]",
      "text/plain": [
       "<Figure size 432x288 with 1 Axes>"
      ]
     },
     "metadata": {
      "needs_background": "light"
     },
     "output_type": "display_data"
    },
    {
     "data": {
      "image/png": "[encoded data removed]",
      "text/plain": [
       "<Figure size 432x288 with 1 Axes>"
      ]
     },
     "metadata": {
      "needs_background": "light"
     },
     "output_type": "display_data"
    }
   ],
   "source": [
    "from matplotlib import pyplot as plt \n",
    "\n",
    "plt.plot(list(range(len(train_losses))),train_losses)\n",
    "plt.plot(list(range(len(train_losses))),dev_losses)\n",
    "\n",
    "plt.figure()\n",
    "plt.plot(list(range(len(train_losses))),train_accs)\n",
    "plt.plot(list(range(len(train_losses))),dev_accs)\n",
    "plt.plot(list(range(len(train_losses))),test_accs)\n"
   ]
  },
  {
   "cell_type": "code",
   "execution_count": 312,
   "id": "5ecdf4d6-15b7-4a23-90ff-07e06917f6e4",
   "metadata": {},
   "outputs": [
    {
     "name": "stderr",
     "output_type": "stream",
     "text": [
      "/Users/zachary/opt/anaconda3/envs/eecs_nlp/lib/python3.9/site-packages/sklearn/metrics/_classification.py:1318: UndefinedMetricWarning: Precision is ill-defined and being set to 0.0 in labels with no predicted samples. Use `zero_division` parameter to control this behavior.\n",
      "  _warn_prf(average, modifier, msg_start, len(result))\n",
      "/Users/zachary/opt/anaconda3/envs/eecs_nlp/lib/python3.9/site-packages/sklearn/metrics/_classification.py:1318: UndefinedMetricWarning: Recall is ill-defined and being set to 0.0 in labels with no true samples. Use `zero_division` parameter to control this behavior.\n",
      "  _warn_prf(average, modifier, msg_start, len(result))\n"
     ]
    },
    {
     "data": {
      "text/html": [
       "<div>\n",
       "<style scoped>\n",
       "    .dataframe tbody tr th:only-of-type {\n",
       "        vertical-align: middle;\n",
       "    }\n",
       "\n",
       "    .dataframe tbody tr th {\n",
       "        vertical-align: top;\n",
       "    }\n",
       "\n",
       "    .dataframe thead th {\n",
       "        text-align: right;\n",
       "    }\n",
       "</style>\n",
       "<table border=\"1\" class=\"dataframe\">\n",
       "  <thead>\n",
       "    <tr style=\"text-align: right;\">\n",
       "      <th></th>\n",
       "      <th>train</th>\n",
       "      <th>dev</th>\n",
       "      <th>test</th>\n",
       "    </tr>\n",
       "  </thead>\n",
       "  <tbody>\n",
       "    <tr>\n",
       "      <th>f1</th>\n",
       "      <td>0.933233</td>\n",
       "      <td>0.942186</td>\n",
       "      <td>0.114731</td>\n",
       "    </tr>\n",
       "    <tr>\n",
       "      <th>precision</th>\n",
       "      <td>0.939438</td>\n",
       "      <td>0.946260</td>\n",
       "      <td>0.144807</td>\n",
       "    </tr>\n",
       "    <tr>\n",
       "      <th>recall</th>\n",
       "      <td>0.927111</td>\n",
       "      <td>0.938146</td>\n",
       "      <td>0.095000</td>\n",
       "    </tr>\n",
       "    <tr>\n",
       "      <th>accuracy</th>\n",
       "      <td>0.927111</td>\n",
       "      <td>0.938146</td>\n",
       "      <td>0.095000</td>\n",
       "    </tr>\n",
       "  </tbody>\n",
       "</table>\n",
       "</div>"
      ],
      "text/plain": [
       "              train       dev      test\n",
       "f1         0.933233  0.942186  0.114731\n",
       "precision  0.939438  0.946260  0.144807\n",
       "recall     0.927111  0.938146  0.095000\n",
       "accuracy   0.927111  0.938146  0.095000"
      ]
     },
     "execution_count": 312,
     "metadata": {},
     "output_type": "execute_result"
    }
   ],
   "source": [
    "from sklearn.metrics import precision_score,recall_score,accuracy_score,f1_score\n",
    "\n",
    "def calc_stats(preds,labs,average='weighted'):\n",
    "    stats = {}\n",
    "    prec = precision_score(labs,preds,average=average)\n",
    "    recall = recall_score(labs,preds,average=average)\n",
    "    acc = accuracy_score(labs,preds)\n",
    "    stats['f1'] = 2*(prec * recall)/(prec +recall)\n",
    "    stats['precision'] = prec \n",
    "    stats['recall'] = recall\n",
    "    stats['accuracy']= acc\n",
    "    return stats\n",
    "stats = {}\n",
    "stats['train'] = calc_stats(preds,labs)\n",
    "stats['dev'] = calc_stats(dev_preds,dev_labels)\n",
    "stats['test'] = calc_stats(test_preds,test_labels)\n",
    "pd.DataFrame(stats)"
   ]
  },
  {
   "cell_type": "code",
   "execution_count": 177,
   "id": "56ef2a4e-dbfc-49ba-97a6-e1aae014bf5e",
   "metadata": {},
   "outputs": [
    {
     "data": {
      "text/plain": [
       "0.5724276900291443"
      ]
     },
     "execution_count": 177,
     "metadata": {},
     "output_type": "execute_result"
    }
   ],
   "source": [
    "float(loss.cpu())"
   ]
  },
  {
   "cell_type": "code",
   "execution_count": null,
   "id": "677ad03e-419a-4faf-9bb3-713a566d0605",
   "metadata": {},
   "outputs": [],
   "source": []
  },
  {
   "cell_type": "code",
   "execution_count": 2,
   "id": "aa700989-7cba-4d83-95a1-ef36652c6a7b",
   "metadata": {},
   "outputs": [
    {
     "data": {
      "application/vnd.jupyter.widget-view+json": {
       "model_id": "438e2f9c3b0b4bb3bcd125a3965ff798",
       "version_major": 2,
       "version_minor": 0
      },
      "text/plain": [
       "0it [00:00, ?it/s]"
      ]
     },
     "metadata": {},
     "output_type": "display_data"
    },
    {
     "data": {
      "application/vnd.jupyter.widget-view+json": {
       "model_id": "685320f4c83445898389cc2e2bbec536",
       "version_major": 2,
       "version_minor": 0
      },
      "text/plain": [
       "0it [00:00, ?it/s]"
      ]
     },
     "metadata": {},
     "output_type": "display_data"
    },
    {
     "data": {
      "application/vnd.jupyter.widget-view+json": {
       "model_id": "f4bbe53c6bb848f8aa909762dacae40d",
       "version_major": 2,
       "version_minor": 0
      },
      "text/plain": [
       "0it [00:00, ?it/s]"
      ]
     },
     "metadata": {},
     "output_type": "display_data"
    }
   ],
   "source": [
    "# create datasets\n",
    "from pathlib import Path\n",
    "from dataset_bert import ProppyDatasetEmb\n",
    "proppy_train_set = ProppyDatasetEmb(filepath=Path(\"data_proppy/proppy_1.0.train.tsv\"),embspath=\"results/proppy_train.pt\")\n",
    "proppy_dev_set = ProppyDatasetEmb(filepath=Path(\"data_proppy/proppy_1.0.dev.tsv\"),embspath=\"results/proppy_dev.pt\")\n",
    "proppy_test_set = ProppyDatasetEmb(filepath=Path(\"data_proppy/proppy_1.0.test.tsv\"),embspath=\"results/proppy_test.pt\")\n",
    "\n"
   ]
  },
  {
   "cell_type": "code",
   "execution_count": 4,
   "id": "98289d10-4d69-4b36-a28f-7c8ae5b822a1",
   "metadata": {},
   "outputs": [],
   "source": [
    "from torch.utils.data import DataLoader\n",
    "prop_train_loader = DataLoader(proppy_train_set,batch_size=16,shuffle=True)\n",
    "prop_dev_loader = DataLoader(proppy_dev_set,batch_size=16,shuffle=True)\n"
   ]
  },
  {
   "cell_type": "code",
   "execution_count": 5,
   "id": "efe5fdd9-8c99-4da0-bbba-7175a6cd1fcb",
   "metadata": {},
   "outputs": [],
   "source": [
    "# train model from  past thing \n"
   ]
  },
  {
   "cell_type": "code",
   "execution_count": 13,
   "id": "d07c7bdf-db6c-40be-8975-d4f9b6d95ccf",
   "metadata": {
    "scrolled": true,
    "tags": []
   },
   "outputs": [],
   "source": [
    "import torch\n",
    "from torch.optim import AdamW\n",
    "from new_model import FallacyModel\n",
    "from torch.nn import CrossEntropyLoss\n",
    "from sklearn.metrics import f1_score, accuracy_score\n",
    "from new_model import ProppyModel\n",
    "from tqdm import tqdm\n",
    "\n",
    "\n",
    "# pmodel = ProppyModel(from_model =fmodel,dropout_p=0.3)\n",
    "pmodel = ProppyModel(n_hiddens=20)\n",
    "\n",
    "\n",
    "train_losses = []\n",
    "train_accs = []\n",
    "dev_losses = []\n",
    "dev_accs = []\n",
    "pos_portion = []"
   ]
  },
  {
   "cell_type": "code",
   "execution_count": 14,
   "id": "abdbfa1e-b1fc-4419-b7e2-f5629ad2936f",
   "metadata": {
    "tags": []
   },
   "outputs": [
    {
     "name": "stderr",
     "output_type": "stream",
     "text": [
      "dev acc: 0.9293658536585366: 100%|██████████████████████████████████████████████████████████████████| 400/400 [22:14<00:00,  3.34s/it]\n"
     ]
    }
   ],
   "source": [
    "weight_prop = .8\n",
    "device = 'cuda' if torch.cuda.is_available() else 'cpu' \n",
    "optim = AdamW(pmodel.parameters(), lr = 1e-4,weight_decay = 1e-8)\n",
    "loss_fn = CrossEntropyLoss(weight=torch.Tensor([1-weight_prop,weight_prop]))\n",
    "dev_loss_fn = CrossEntropyLoss()\n",
    "pmodel.train()\n",
    "\n",
    "\n",
    "\n",
    "for epoch in (bar:= tqdm(range(400)) ): \n",
    "    preds = []\n",
    "    labs = []\n",
    "    losses = [] \n",
    "    for batch in prop_train_loader: \n",
    "        optim.zero_grad()\n",
    "        labels = batch['label'].to(device)\n",
    "        feats = batch['feats'].to(device)\n",
    "        \n",
    "\n",
    "        out = pmodel(feats)\n",
    "        loss = loss_fn(out,labels)\n",
    "        loss.backward()\n",
    "        optim.step()\n",
    "        preds += torch.argmax(out,dim=1).cpu().tolist() \n",
    "        labs += batch['label'].tolist()\n",
    "        losses.append(float(loss.cpu()))\n",
    "    train_losses.append(sum(losses)/len(losses))\n",
    "    train_accs.append(accuracy_score(labs,preds))\n",
    "    # test model on dev set \n",
    "    pmodel.eval()\n",
    "    dev_los_acc = []\n",
    "    dev_preds = []\n",
    "    dev_labels = []\n",
    "    for batch in prop_dev_loader: \n",
    "        labels = batch['label'].to(device)\n",
    "        feats = batch['feats'].to(device)\n",
    "\n",
    "        out = pmodel(feats)\n",
    "        loss = loss_fn(out,labels)\n",
    "        dev_preds += torch.argmax(out,dim=1).cpu().tolist() \n",
    "        dev_labels += batch['label'].tolist()\n",
    "        dev_los_acc.append(float(loss.cpu()))\n",
    "    dev_losses.append(sum(dev_los_acc)/len(dev_los_acc))\n",
    "    dev_accs.append(accuracy_score(dev_labels,dev_preds))\n",
    "    pos_portion.append(sum(dev_preds)/len(dev_preds))\n",
    "    pmodel.train()\n",
    "    bar.set_description(f'dev acc: {dev_accs[-1]}')\n",
    "    # print(f'at epoch {epoch}, train L: {train_losses[-1]}, Dev L: {dev_losses[-1]}') \n",
    "    "
   ]
  },
  {
   "cell_type": "code",
   "execution_count": 15,
   "id": "a396dca9-4141-4318-b572-7db42efc7192",
   "metadata": {},
   "outputs": [
    {
     "data": {
      "text/plain": [
       "<matplotlib.legend.Legend at 0x7f9ebcdad430>"
      ]
     },
     "execution_count": 15,
     "metadata": {},
     "output_type": "execute_result"
    },
    {
     "data": {
      "image/png": "[encoded data removed]",
      "text/plain": [
       "<Figure size 432x288 with 1 Axes>"
      ]
     },
     "metadata": {
      "needs_background": "light"
     },
     "output_type": "display_data"
    },
    {
     "data": {
      "image/png": "[encoded data removed]",
      "text/plain": [
       "<Figure size 432x288 with 1 Axes>"
      ]
     },
     "metadata": {
      "needs_background": "light"
     },
     "output_type": "display_data"
    }
   ],
   "source": [
    "from matplotlib import pyplot as plt \n",
    "\n",
    "plt.plot(list(range(len(train_losses))),train_losses)\n",
    "plt.plot(list(range(len(train_losses))),dev_losses)\n",
    "plt.legend(['train loss','dev loss'])\n",
    "\n",
    "plt.figure()\n",
    "plt.plot(list(range(len(train_losses))),train_accs)\n",
    "plt.plot(list(range(len(train_losses))),dev_accs)\n",
    "plt.legend(['train accuracy','dev accuracy'])\n"
   ]
  },
  {
   "cell_type": "code",
   "execution_count": 16,
   "id": "b6ed2b59-2963-4ae3-89cc-9b3f89fb002f",
   "metadata": {},
   "outputs": [
    {
     "data": {
      "text/plain": [
       "0.9293658536585366"
      ]
     },
     "execution_count": 16,
     "metadata": {},
     "output_type": "execute_result"
    }
   ],
   "source": [
    "dev_accs[-1]"
   ]
  },
  {
   "cell_type": "code",
   "execution_count": 326,
   "id": "0d8b8639-f634-48eb-99ce-f0ca547a55bf",
   "metadata": {},
   "outputs": [],
   "source": [
    "torch.save(pmodel,\"results/basic_400_ac.9293.pt\")"
   ]
  },
  {
   "cell_type": "markdown",
   "id": "7c0c918e-eb09-4ea1-a3dd-a0002c97fdc3",
   "metadata": {},
   "source": [
    "# Test models on balanced dataset "
   ]
  },
  {
   "cell_type": "code",
   "execution_count": 17,
   "id": "0ec9b0ae-165f-444d-8a92-8978b6c009cc",
   "metadata": {},
   "outputs": [
    {
     "data": {
      "application/vnd.jupyter.widget-view+json": {
       "model_id": "0782ead7ddff4085946138416d5c6a60",
       "version_major": 2,
       "version_minor": 0
      },
      "text/plain": [
       "0it [00:00, ?it/s]"
      ]
     },
     "metadata": {},
     "output_type": "display_data"
    },
    {
     "data": {
      "application/vnd.jupyter.widget-view+json": {
       "model_id": "f859816f56d446d7b4d399f31943c664",
       "version_major": 2,
       "version_minor": 0
      },
      "text/plain": [
       "0it [00:00, ?it/s]"
      ]
     },
     "metadata": {},
     "output_type": "display_data"
    },
    {
     "data": {
      "application/vnd.jupyter.widget-view+json": {
       "model_id": "cd8e0113622a48f7afbe30238d21979e",
       "version_major": 2,
       "version_minor": 0
      },
      "text/plain": [
       "0it [00:00, ?it/s]"
      ]
     },
     "metadata": {},
     "output_type": "display_data"
    },
    {
     "data": {
      "application/vnd.jupyter.widget-view+json": {
       "model_id": "bf5d02784478462c931ff21bbefbc1e5",
       "version_major": 2,
       "version_minor": 0
      },
      "text/plain": [
       "0it [00:00, ?it/s]"
      ]
     },
     "metadata": {},
     "output_type": "display_data"
    },
    {
     "data": {
      "application/vnd.jupyter.widget-view+json": {
       "model_id": "dad1a44d61c441789d8b9b97fbca94db",
       "version_major": 2,
       "version_minor": 0
      },
      "text/plain": [
       "0it [00:00, ?it/s]"
      ]
     },
     "metadata": {},
     "output_type": "display_data"
    },
    {
     "data": {
      "application/vnd.jupyter.widget-view+json": {
       "model_id": "4bf6f1bdf06e412694596170998a2d22",
       "version_major": 2,
       "version_minor": 0
      },
      "text/plain": [
       "0it [00:00, ?it/s]"
      ]
     },
     "metadata": {},
     "output_type": "display_data"
    }
   ],
   "source": [
    "# balanced datasets  \n",
    "from sklearn.metrics import precision_recall_fscore_support\n",
    "\n",
    "\n",
    "balanced_ds = {}\n",
    "balanced_ds['train'] = ProppyDatasetEmb(filepath=Path(\"data_proppy/proppy_1.0.train.tsv\")\n",
    "                                        ,embspath=\"results/proppy_train.pt\",balance=True)\n",
    "balanced_ds['dev'] = ProppyDatasetEmb(filepath=Path(\"data_proppy/proppy_1.0.dev.tsv\")\n",
    "                                         ,embspath=\"results/proppy_dev.pt\",balance=True)\n",
    "balanced_ds['test'] = ProppyDatasetEmb(filepath=Path(\"data_proppy/proppy_1.0.test.tsv\")\n",
    "                                        ,embspath=\"results/proppy_test.pt\",balance=True)  \n",
    "\n",
    "\n",
    "unbalanced_ds = {}\n",
    "unbalanced_ds['train'] = ProppyDatasetEmb(filepath=Path(\"data_proppy/proppy_1.0.train.tsv\")\n",
    "                                        ,embspath=\"results/proppy_train.pt\",balance=False)\n",
    "unbalanced_ds['dev'] = ProppyDatasetEmb(filepath=Path(\"data_proppy/proppy_1.0.dev.tsv\")\n",
    "                                         ,embspath=\"results/proppy_dev.pt\",balance=False)\n",
    "unbalanced_ds['test'] = ProppyDatasetEmb(filepath=Path(\"data_proppy/proppy_1.0.test.tsv\")\n",
    "                                        ,embspath=\"results/proppy_test.pt\",balance=False)    "
   ]
  },
  {
   "cell_type": "code",
   "execution_count": 167,
   "id": "3cf4caf5-6f50-4a6f-a4a0-da864a820379",
   "metadata": {},
   "outputs": [
    {
     "data": {
      "text/html": [
       "<div>\n",
       "<style scoped>\n",
       "    .dataframe tbody tr th:only-of-type {\n",
       "        vertical-align: middle;\n",
       "    }\n",
       "\n",
       "    .dataframe tbody tr th {\n",
       "        vertical-align: top;\n",
       "    }\n",
       "\n",
       "    .dataframe thead th {\n",
       "        text-align: right;\n",
       "    }\n",
       "</style>\n",
       "<table border=\"1\" class=\"dataframe\">\n",
       "  <thead>\n",
       "    <tr style=\"text-align: right;\">\n",
       "      <th></th>\n",
       "      <th>train</th>\n",
       "      <th>dev</th>\n",
       "      <th>test</th>\n",
       "    </tr>\n",
       "  </thead>\n",
       "  <tbody>\n",
       "    <tr>\n",
       "      <th>positive</th>\n",
       "      <td>4021</td>\n",
       "      <td>575</td>\n",
       "      <td>1140</td>\n",
       "    </tr>\n",
       "    <tr>\n",
       "      <th>negative</th>\n",
       "      <td>3930</td>\n",
       "      <td>563</td>\n",
       "      <td>1128</td>\n",
       "    </tr>\n",
       "  </tbody>\n",
       "</table>\n",
       "</div>"
      ],
      "text/plain": [
       "          train  dev  test\n",
       "positive   4021  575  1140\n",
       "negative   3930  563  1128"
      ]
     },
     "execution_count": 167,
     "metadata": {},
     "output_type": "execute_result"
    }
   ],
   "source": [
    "# print out the counts in balanced train,dev,test folds\n",
    "counts_types = {}\n",
    "for name,ds in balanced_ds.items(): \n",
    "    counts_dict = {\"positive\":0, \"negative\":0}\n",
    "    for i in range(len(ds)):\n",
    "        counts_dict[\"positive\"] += int(ds[i]['label'] == 1)\n",
    "        counts_dict[\"negative\"] += int(ds[i]['label'] != 1)\n",
    "    counts_types[name] = counts_dict\n",
    "pd.DataFrame(counts_types)"
   ]
  },
  {
   "cell_type": "code",
   "execution_count": 332,
   "id": "87f2f1c1-04cf-43f3-ad34-a4271e25bd8f",
   "metadata": {},
   "outputs": [],
   "source": [
    "from sklearn.metrics import confusion_matrix\n",
    "\n",
    "\n",
    "def get_stats(model,datasets):\n",
    "    outputs = {}\n",
    "    for name,ds in datasets.items(): \n",
    "        loader = DataLoader(ds,batch_size=32) \n",
    "        model.eval()\n",
    "        all_labs = []\n",
    "        all_preds= [] \n",
    "        for batch in loader: \n",
    "            labels = batch['label']\n",
    "            feats = batch['feats']\n",
    "\n",
    "            outs = model(feats)\n",
    "            all_preds += torch.argmax(outs,dim=1).tolist() \n",
    "            all_labs += labels.tolist()\n",
    "        cm = confusion_matrix(all_labs,all_preds)\n",
    "        tp,fn,fp,tn  = cm[0][0], cm[0][1], cm[1][0],cm[1][1]\n",
    "        stats = {}\n",
    "        prec = tp/(tp+fp)\n",
    "        recall = tp/(tp+fn)\n",
    "        stats['f1'] = 2*(prec * recall)/(prec +recall)\n",
    "        stats['precision'] = prec \n",
    "        stats['recall'] = recall\n",
    "        stats['accuracy']= (tp + tn)/(tp + tn + fp + fn) \n",
    "        outputs[name] = stats \n",
    "    return pd.DataFrame(outputs).transpose()"
   ]
  },
  {
   "cell_type": "code",
   "execution_count": 333,
   "id": "0ace0d6c-aa00-4cc9-9795-b7fd0e5782f2",
   "metadata": {},
   "outputs": [
    {
     "name": "stdout",
     "output_type": "stream",
     "text": [
      "balanced dataset stats for transfer learning model:\n"
     ]
    },
    {
     "data": {
      "text/html": [
       "<div>\n",
       "<style scoped>\n",
       "    .dataframe tbody tr th:only-of-type {\n",
       "        vertical-align: middle;\n",
       "    }\n",
       "\n",
       "    .dataframe tbody tr th {\n",
       "        vertical-align: top;\n",
       "    }\n",
       "\n",
       "    .dataframe thead th {\n",
       "        text-align: right;\n",
       "    }\n",
       "</style>\n",
       "<table border=\"1\" class=\"dataframe\">\n",
       "  <thead>\n",
       "    <tr style=\"text-align: right;\">\n",
       "      <th></th>\n",
       "      <th>f1</th>\n",
       "      <th>precision</th>\n",
       "      <th>recall</th>\n",
       "      <th>accuracy</th>\n",
       "    </tr>\n",
       "  </thead>\n",
       "  <tbody>\n",
       "    <tr>\n",
       "      <th>train</th>\n",
       "      <td>0.898467</td>\n",
       "      <td>0.854813</td>\n",
       "      <td>0.946819</td>\n",
       "      <td>0.894227</td>\n",
       "    </tr>\n",
       "    <tr>\n",
       "      <th>dev</th>\n",
       "      <td>0.888329</td>\n",
       "      <td>0.842357</td>\n",
       "      <td>0.939609</td>\n",
       "      <td>0.883128</td>\n",
       "    </tr>\n",
       "    <tr>\n",
       "      <th>test</th>\n",
       "      <td>0.885353</td>\n",
       "      <td>0.820106</td>\n",
       "      <td>0.961879</td>\n",
       "      <td>0.876102</td>\n",
       "    </tr>\n",
       "  </tbody>\n",
       "</table>\n",
       "</div>"
      ],
      "text/plain": [
       "             f1  precision    recall  accuracy\n",
       "train  0.898467   0.854813  0.946819  0.894227\n",
       "dev    0.888329   0.842357  0.939609  0.883128\n",
       "test   0.885353   0.820106  0.961879  0.876102"
      ]
     },
     "execution_count": 333,
     "metadata": {},
     "output_type": "execute_result"
    }
   ],
   "source": [
    "trans_mod_path = \"results/transfer_400_acc.940.pt\"\n",
    "trans_model = torch.load(model_path)\n",
    "print(\"balanced dataset stats for transfer learning model:\")\n",
    "trans_mod_stats = get_stats(trans_model,balanced_ds)\n",
    "trans_mod_stats"
   ]
  },
  {
   "cell_type": "code",
   "execution_count": 334,
   "id": "f000dcc0-6c17-411e-8394-7fcddfc09aaa",
   "metadata": {},
   "outputs": [
    {
     "name": "stdout",
     "output_type": "stream",
     "text": [
      "balanced dataset stats for basic model:\n"
     ]
    },
    {
     "data": {
      "text/html": [
       "<div>\n",
       "<style scoped>\n",
       "    .dataframe tbody tr th:only-of-type {\n",
       "        vertical-align: middle;\n",
       "    }\n",
       "\n",
       "    .dataframe tbody tr th {\n",
       "        vertical-align: top;\n",
       "    }\n",
       "\n",
       "    .dataframe thead th {\n",
       "        text-align: right;\n",
       "    }\n",
       "</style>\n",
       "<table border=\"1\" class=\"dataframe\">\n",
       "  <thead>\n",
       "    <tr style=\"text-align: right;\">\n",
       "      <th></th>\n",
       "      <th>f1</th>\n",
       "      <th>precision</th>\n",
       "      <th>recall</th>\n",
       "      <th>accuracy</th>\n",
       "    </tr>\n",
       "  </thead>\n",
       "  <tbody>\n",
       "    <tr>\n",
       "      <th>train</th>\n",
       "      <td>0.876853</td>\n",
       "      <td>0.845663</td>\n",
       "      <td>0.910433</td>\n",
       "      <td>0.873601</td>\n",
       "    </tr>\n",
       "    <tr>\n",
       "      <th>dev</th>\n",
       "      <td>0.868243</td>\n",
       "      <td>0.827697</td>\n",
       "      <td>0.912966</td>\n",
       "      <td>0.862917</td>\n",
       "    </tr>\n",
       "    <tr>\n",
       "      <th>test</th>\n",
       "      <td>0.869456</td>\n",
       "      <td>0.823296</td>\n",
       "      <td>0.921099</td>\n",
       "      <td>0.862434</td>\n",
       "    </tr>\n",
       "  </tbody>\n",
       "</table>\n",
       "</div>"
      ],
      "text/plain": [
       "             f1  precision    recall  accuracy\n",
       "train  0.876853   0.845663  0.910433  0.873601\n",
       "dev    0.868243   0.827697  0.912966  0.862917\n",
       "test   0.869456   0.823296  0.921099  0.862434"
      ]
     },
     "execution_count": 334,
     "metadata": {},
     "output_type": "execute_result"
    }
   ],
   "source": [
    "reg_model_path = \"results/basic_model_epoch_800_ac.910.pt\"\n",
    "reg_model = torch.load(reg_model_path)\n",
    "print(\"balanced dataset stats for basic model:\")\n",
    "reg_mod_stats = get_stats(reg_model,balanced_ds)\n",
    "reg_mod_stats"
   ]
  },
  {
   "cell_type": "code",
   "execution_count": 335,
   "id": "b74caa76-4b27-47ad-8dd9-23a54b21f273",
   "metadata": {},
   "outputs": [
    {
     "name": "stdout",
     "output_type": "stream",
     "text": [
      "regular dataset stats for transfer learning model:\n"
     ]
    },
    {
     "data": {
      "text/html": [
       "<div>\n",
       "<style scoped>\n",
       "    .dataframe tbody tr th:only-of-type {\n",
       "        vertical-align: middle;\n",
       "    }\n",
       "\n",
       "    .dataframe tbody tr th {\n",
       "        vertical-align: top;\n",
       "    }\n",
       "\n",
       "    .dataframe thead th {\n",
       "        text-align: right;\n",
       "    }\n",
       "</style>\n",
       "<table border=\"1\" class=\"dataframe\">\n",
       "  <thead>\n",
       "    <tr style=\"text-align: right;\">\n",
       "      <th></th>\n",
       "      <th>f1</th>\n",
       "      <th>precision</th>\n",
       "      <th>recall</th>\n",
       "      <th>accuracy</th>\n",
       "    </tr>\n",
       "  </thead>\n",
       "  <tbody>\n",
       "    <tr>\n",
       "      <th>train</th>\n",
       "      <td>0.963496</td>\n",
       "      <td>0.979569</td>\n",
       "      <td>0.947943</td>\n",
       "      <td>0.936197</td>\n",
       "    </tr>\n",
       "    <tr>\n",
       "      <th>dev</th>\n",
       "      <td>0.962277</td>\n",
       "      <td>0.977551</td>\n",
       "      <td>0.947473</td>\n",
       "      <td>0.934049</td>\n",
       "    </tr>\n",
       "    <tr>\n",
       "      <th>test</th>\n",
       "      <td>0.959127</td>\n",
       "      <td>0.972856</td>\n",
       "      <td>0.945781</td>\n",
       "      <td>0.928438</td>\n",
       "    </tr>\n",
       "  </tbody>\n",
       "</table>\n",
       "</div>"
      ],
      "text/plain": [
       "             f1  precision    recall  accuracy\n",
       "train  0.963496   0.979569  0.947943  0.936197\n",
       "dev    0.962277   0.977551  0.947473  0.934049\n",
       "test   0.959127   0.972856  0.945781  0.928438"
      ]
     },
     "execution_count": 335,
     "metadata": {},
     "output_type": "execute_result"
    }
   ],
   "source": [
    "trans_mod_path = \"results/transfer_400_acc.940.pt\"\n",
    "trans_model = torch.load(model_path)\n",
    "print(\"regular dataset stats for transfer learning model:\")\n",
    "trans_mod_stats = get_stats(trans_model,unbalanced_ds)\n",
    "trans_mod_stats"
   ]
  },
  {
   "cell_type": "code",
   "execution_count": 336,
   "id": "628c3d8b-b681-49d1-b603-2e79b01b4375",
   "metadata": {},
   "outputs": [
    {
     "name": "stdout",
     "output_type": "stream",
     "text": [
      "regular dataset stats for basic model:\n"
     ]
    },
    {
     "data": {
      "text/html": [
       "<div>\n",
       "<style scoped>\n",
       "    .dataframe tbody tr th:only-of-type {\n",
       "        vertical-align: middle;\n",
       "    }\n",
       "\n",
       "    .dataframe tbody tr th {\n",
       "        vertical-align: top;\n",
       "    }\n",
       "\n",
       "    .dataframe thead th {\n",
       "        text-align: right;\n",
       "    }\n",
       "</style>\n",
       "<table border=\"1\" class=\"dataframe\">\n",
       "  <thead>\n",
       "    <tr style=\"text-align: right;\">\n",
       "      <th></th>\n",
       "      <th>f1</th>\n",
       "      <th>precision</th>\n",
       "      <th>recall</th>\n",
       "      <th>accuracy</th>\n",
       "    </tr>\n",
       "  </thead>\n",
       "  <tbody>\n",
       "    <tr>\n",
       "      <th>train</th>\n",
       "      <td>0.946464</td>\n",
       "      <td>0.978201</td>\n",
       "      <td>0.916721</td>\n",
       "      <td>0.907881</td>\n",
       "    </tr>\n",
       "    <tr>\n",
       "      <th>dev</th>\n",
       "      <td>0.947927</td>\n",
       "      <td>0.975134</td>\n",
       "      <td>0.922198</td>\n",
       "      <td>0.910049</td>\n",
       "    </tr>\n",
       "    <tr>\n",
       "      <th>test</th>\n",
       "      <td>0.945158</td>\n",
       "      <td>0.973777</td>\n",
       "      <td>0.918173</td>\n",
       "      <td>0.905404</td>\n",
       "    </tr>\n",
       "  </tbody>\n",
       "</table>\n",
       "</div>"
      ],
      "text/plain": [
       "             f1  precision    recall  accuracy\n",
       "train  0.946464   0.978201  0.916721  0.907881\n",
       "dev    0.947927   0.975134  0.922198  0.910049\n",
       "test   0.945158   0.973777  0.918173  0.905404"
      ]
     },
     "execution_count": 336,
     "metadata": {},
     "output_type": "execute_result"
    }
   ],
   "source": [
    "reg_model_path = \"results/basic_model_epoch_800_ac.910.pt\"\n",
    "reg_model = torch.load(reg_model_path)\n",
    "print(\"regular dataset stats for basic model:\")\n",
    "reg_mod_stats = get_stats(reg_model,unbalanced_ds)\n",
    "reg_mod_stats"
   ]
  },
  {
   "cell_type": "markdown",
   "id": "804fc65b-34e5-4a86-89e0-3471c611fd5b",
   "metadata": {},
   "source": [
    "# Test on presidential speeches \n",
    "First create bert embeddings of each sentence (treating each speech sentence as its own document), then run inference on each sentence within each document"
   ]
  },
  {
   "cell_type": "code",
   "execution_count": 95,
   "id": "bb98d0c2-6c70-45ba-bd17-4e7c644f02c7",
   "metadata": {},
   "outputs": [
    {
     "data": {
      "text/html": [
       "<div>\n",
       "<style scoped>\n",
       "    .dataframe tbody tr th:only-of-type {\n",
       "        vertical-align: middle;\n",
       "    }\n",
       "\n",
       "    .dataframe tbody tr th {\n",
       "        vertical-align: top;\n",
       "    }\n",
       "\n",
       "    .dataframe thead th {\n",
       "        text-align: right;\n",
       "    }\n",
       "</style>\n",
       "<table border=\"1\" class=\"dataframe\">\n",
       "  <thead>\n",
       "    <tr style=\"text-align: right;\">\n",
       "      <th></th>\n",
       "      <th>title</th>\n",
       "      <th>speaker</th>\n",
       "      <th>text</th>\n",
       "    </tr>\n",
       "  </thead>\n",
       "  <tbody>\n",
       "    <tr>\n",
       "      <th>0</th>\n",
       "      <td>Trump1</td>\n",
       "      <td>Trump</td>\n",
       "      <td>My fellow Americans, \\n\\nI want to speak to yo...</td>\n",
       "    </tr>\n",
       "    <tr>\n",
       "      <th>1</th>\n",
       "      <td>Trump1</td>\n",
       "      <td>Trump</td>\n",
       "      <td>As I have said, the incursion of the US capito...</td>\n",
       "    </tr>\n",
       "    <tr>\n",
       "      <th>2</th>\n",
       "      <td>Trump1</td>\n",
       "      <td>Trump</td>\n",
       "      <td>It angered and appalled millions of Americans ...</td>\n",
       "    </tr>\n",
       "    <tr>\n",
       "      <th>3</th>\n",
       "      <td>Trump1</td>\n",
       "      <td>Trump</td>\n",
       "      <td>I want to be very clear.</td>\n",
       "    </tr>\n",
       "    <tr>\n",
       "      <th>4</th>\n",
       "      <td>Trump1</td>\n",
       "      <td>Trump</td>\n",
       "      <td>I unequivocally condemn the violence that we s...</td>\n",
       "    </tr>\n",
       "    <tr>\n",
       "      <th>...</th>\n",
       "      <td>...</td>\n",
       "      <td>...</td>\n",
       "      <td>...</td>\n",
       "    </tr>\n",
       "    <tr>\n",
       "      <th>767</th>\n",
       "      <td>Washington1</td>\n",
       "      <td>Washington</td>\n",
       "      <td>It concerns myself, and will therefore be as b...</td>\n",
       "    </tr>\n",
       "    <tr>\n",
       "      <th>768</th>\n",
       "      <td>Washington1</td>\n",
       "      <td>Washington</td>\n",
       "      <td>When I was first honoured with a call into the...</td>\n",
       "    </tr>\n",
       "    <tr>\n",
       "      <th>769</th>\n",
       "      <td>Washington1</td>\n",
       "      <td>Washington</td>\n",
       "      <td>From this resolution I have in no instance dep...</td>\n",
       "    </tr>\n",
       "    <tr>\n",
       "      <th>770</th>\n",
       "      <td>Washington1</td>\n",
       "      <td>Washington</td>\n",
       "      <td>And being still under the impressions which pr...</td>\n",
       "    </tr>\n",
       "    <tr>\n",
       "      <th>771</th>\n",
       "      <td>Washington1</td>\n",
       "      <td>Washington</td>\n",
       "      <td>Having thus imparted to you my sentiments, as ...</td>\n",
       "    </tr>\n",
       "  </tbody>\n",
       "</table>\n",
       "<p>772 rows × 3 columns</p>\n",
       "</div>"
      ],
      "text/plain": [
       "           title     speaker  \\\n",
       "0         Trump1       Trump   \n",
       "1         Trump1       Trump   \n",
       "2         Trump1       Trump   \n",
       "3         Trump1       Trump   \n",
       "4         Trump1       Trump   \n",
       "..           ...         ...   \n",
       "767  Washington1  Washington   \n",
       "768  Washington1  Washington   \n",
       "769  Washington1  Washington   \n",
       "770  Washington1  Washington   \n",
       "771  Washington1  Washington   \n",
       "\n",
       "                                                  text  \n",
       "0    My fellow Americans, \\n\\nI want to speak to yo...  \n",
       "1    As I have said, the incursion of the US capito...  \n",
       "2    It angered and appalled millions of Americans ...  \n",
       "3                             I want to be very clear.  \n",
       "4    I unequivocally condemn the violence that we s...  \n",
       "..                                                 ...  \n",
       "767  It concerns myself, and will therefore be as b...  \n",
       "768  When I was first honoured with a call into the...  \n",
       "769  From this resolution I have in no instance dep...  \n",
       "770  And being still under the impressions which pr...  \n",
       "771  Having thus imparted to you my sentiments, as ...  \n",
       "\n",
       "[772 rows x 3 columns]"
      ]
     },
     "execution_count": 95,
     "metadata": {},
     "output_type": "execute_result"
    }
   ],
   "source": [
    "import csv\n",
    "import nltk\n",
    "\n",
    "speech_feats = []\n",
    "with open('data_speeches.csv', 'r') as file: \n",
    "    reader = csv.reader(file) \n",
    "    for row in reader: \n",
    "        speech_title = row[0]\n",
    "        speech_author = row[1]\n",
    "        speech_text = row[2]\n",
    "        speech_feats.extend([{\n",
    "            \"title\": speech_title,\n",
    "            \"speaker\": speech_author,\n",
    "            \"text\": sent,\n",
    "            }\n",
    "            for sent in nltk.sent_tokenize(speech_text)\n",
    "            ])\n",
    "speech_df = pd.DataFrame(speech_feats)\n",
    "speech_df"
   ]
  },
  {
   "cell_type": "code",
   "execution_count": 100,
   "id": "27309c44-f202-43a2-9486-a204ff4b47f2",
   "metadata": {},
   "outputs": [
    {
     "name": "stderr",
     "output_type": "stream",
     "text": [
      "Some weights of the model checkpoint at bert-base-uncased were not used when initializing BertModel: ['cls.predictions.transform.LayerNorm.bias', 'cls.seq_relationship.bias', 'cls.seq_relationship.weight', 'cls.predictions.transform.LayerNorm.weight', 'cls.predictions.transform.dense.weight', 'cls.predictions.bias', 'cls.predictions.transform.dense.bias', 'cls.predictions.decoder.weight']\n",
      "- This IS expected if you are initializing BertModel from the checkpoint of a model trained on another task or with another architecture (e.g. initializing a BertForSequenceClassification model from a BertForPreTraining model).\n",
      "- This IS NOT expected if you are initializing BertModel from the checkpoint of a model that you expect to be exactly identical (initializing a BertForSequenceClassification model from a BertForSequenceClassification model).\n"
     ]
    }
   ],
   "source": [
    "bert_model_name = \"bert-base-uncased\"\n",
    "\n",
    "tokenizer = transformers.BertTokenizerFast.from_pretrained(bert_model_name, \n",
    "                                                           add_special_tokens=True)\n",
    "bert = transformers.BertModel.from_pretrained(bert_model_name)\n",
    "\n",
    "\n"
   ]
  },
  {
   "cell_type": "code",
   "execution_count": 101,
   "id": "94321dde-61a7-46b7-b35d-878fcecfa357",
   "metadata": {},
   "outputs": [
    {
     "name": "stderr",
     "output_type": "stream",
     "text": [
      "772it [05:22,  2.39it/s]\n"
     ]
    }
   ],
   "source": [
    "speech_feats = np.zeros([len(speech_df),768])\n",
    "\n",
    "for i,row in tqdm(speech_df.iterrows()): \n",
    "    toks = tp.io.bert.make_bert_tokens(row['text'],tokenizer)\n",
    "    emb_df = tp.io.bert.add_embeddings(toks, bert)\n",
    "    speech_feats[i,:] = emb_df.embedding.to_numpy().mean(axis=0)"
   ]
  },
  {
   "cell_type": "code",
   "execution_count": 118,
   "id": "3b7256a4-904e-4304-978d-e9c4ffad636a",
   "metadata": {},
   "outputs": [
    {
     "data": {
      "text/html": [
       "<div>\n",
       "<style scoped>\n",
       "    .dataframe tbody tr th:only-of-type {\n",
       "        vertical-align: middle;\n",
       "    }\n",
       "\n",
       "    .dataframe tbody tr th {\n",
       "        vertical-align: top;\n",
       "    }\n",
       "\n",
       "    .dataframe thead th {\n",
       "        text-align: right;\n",
       "    }\n",
       "</style>\n",
       "<table border=\"1\" class=\"dataframe\">\n",
       "  <thead>\n",
       "    <tr style=\"text-align: right;\">\n",
       "      <th></th>\n",
       "      <th>title</th>\n",
       "      <th>speaker</th>\n",
       "      <th>text</th>\n",
       "      <th>neg_p</th>\n",
       "      <th>pos_p</th>\n",
       "    </tr>\n",
       "  </thead>\n",
       "  <tbody>\n",
       "    <tr>\n",
       "      <th>0</th>\n",
       "      <td>Trump1</td>\n",
       "      <td>Trump</td>\n",
       "      <td>My fellow Americans, \\n\\nI want to speak to yo...</td>\n",
       "      <td>0.704420</td>\n",
       "      <td>0.295580</td>\n",
       "    </tr>\n",
       "    <tr>\n",
       "      <th>1</th>\n",
       "      <td>Trump1</td>\n",
       "      <td>Trump</td>\n",
       "      <td>As I have said, the incursion of the US capito...</td>\n",
       "      <td>0.648197</td>\n",
       "      <td>0.351803</td>\n",
       "    </tr>\n",
       "    <tr>\n",
       "      <th>2</th>\n",
       "      <td>Trump1</td>\n",
       "      <td>Trump</td>\n",
       "      <td>It angered and appalled millions of Americans ...</td>\n",
       "      <td>0.424417</td>\n",
       "      <td>0.575583</td>\n",
       "    </tr>\n",
       "    <tr>\n",
       "      <th>3</th>\n",
       "      <td>Trump1</td>\n",
       "      <td>Trump</td>\n",
       "      <td>I want to be very clear.</td>\n",
       "      <td>0.680986</td>\n",
       "      <td>0.319014</td>\n",
       "    </tr>\n",
       "    <tr>\n",
       "      <th>4</th>\n",
       "      <td>Trump1</td>\n",
       "      <td>Trump</td>\n",
       "      <td>I unequivocally condemn the violence that we s...</td>\n",
       "      <td>0.657644</td>\n",
       "      <td>0.342356</td>\n",
       "    </tr>\n",
       "    <tr>\n",
       "      <th>...</th>\n",
       "      <td>...</td>\n",
       "      <td>...</td>\n",
       "      <td>...</td>\n",
       "      <td>...</td>\n",
       "      <td>...</td>\n",
       "    </tr>\n",
       "    <tr>\n",
       "      <th>767</th>\n",
       "      <td>Washington1</td>\n",
       "      <td>Washington</td>\n",
       "      <td>It concerns myself, and will therefore be as b...</td>\n",
       "      <td>0.716648</td>\n",
       "      <td>0.283352</td>\n",
       "    </tr>\n",
       "    <tr>\n",
       "      <th>768</th>\n",
       "      <td>Washington1</td>\n",
       "      <td>Washington</td>\n",
       "      <td>When I was first honoured with a call into the...</td>\n",
       "      <td>0.692157</td>\n",
       "      <td>0.307843</td>\n",
       "    </tr>\n",
       "    <tr>\n",
       "      <th>769</th>\n",
       "      <td>Washington1</td>\n",
       "      <td>Washington</td>\n",
       "      <td>From this resolution I have in no instance dep...</td>\n",
       "      <td>0.575301</td>\n",
       "      <td>0.424699</td>\n",
       "    </tr>\n",
       "    <tr>\n",
       "      <th>770</th>\n",
       "      <td>Washington1</td>\n",
       "      <td>Washington</td>\n",
       "      <td>And being still under the impressions which pr...</td>\n",
       "      <td>0.593235</td>\n",
       "      <td>0.406765</td>\n",
       "    </tr>\n",
       "    <tr>\n",
       "      <th>771</th>\n",
       "      <td>Washington1</td>\n",
       "      <td>Washington</td>\n",
       "      <td>Having thus imparted to you my sentiments, as ...</td>\n",
       "      <td>0.511521</td>\n",
       "      <td>0.488479</td>\n",
       "    </tr>\n",
       "  </tbody>\n",
       "</table>\n",
       "<p>772 rows × 5 columns</p>\n",
       "</div>"
      ],
      "text/plain": [
       "           title     speaker  \\\n",
       "0         Trump1       Trump   \n",
       "1         Trump1       Trump   \n",
       "2         Trump1       Trump   \n",
       "3         Trump1       Trump   \n",
       "4         Trump1       Trump   \n",
       "..           ...         ...   \n",
       "767  Washington1  Washington   \n",
       "768  Washington1  Washington   \n",
       "769  Washington1  Washington   \n",
       "770  Washington1  Washington   \n",
       "771  Washington1  Washington   \n",
       "\n",
       "                                                  text     neg_p     pos_p  \n",
       "0    My fellow Americans, \\n\\nI want to speak to yo...  0.704420  0.295580  \n",
       "1    As I have said, the incursion of the US capito...  0.648197  0.351803  \n",
       "2    It angered and appalled millions of Americans ...  0.424417  0.575583  \n",
       "3                             I want to be very clear.  0.680986  0.319014  \n",
       "4    I unequivocally condemn the violence that we s...  0.657644  0.342356  \n",
       "..                                                 ...       ...       ...  \n",
       "767  It concerns myself, and will therefore be as b...  0.716648  0.283352  \n",
       "768  When I was first honoured with a call into the...  0.692157  0.307843  \n",
       "769  From this resolution I have in no instance dep...  0.575301  0.424699  \n",
       "770  And being still under the impressions which pr...  0.593235  0.406765  \n",
       "771  Having thus imparted to you my sentiments, as ...  0.511521  0.488479  \n",
       "\n",
       "[772 rows x 5 columns]"
      ]
     },
     "execution_count": 118,
     "metadata": {},
     "output_type": "execute_result"
    }
   ],
   "source": [
    "from torch.nn.functional import softmax\n",
    "preds = torch.sigmoid(trans_model(torch.from_numpy(speech_feats).float()))\n",
    "speech_df[['neg_p','pos_p']] = softmax(preds,dim=1).detach().numpy()\n",
    "speech_df"
   ]
  },
  {
   "cell_type": "raw",
   "id": "2f2b685d-225a-4f71-80be-7ff802961db5",
   "metadata": {},
   "source": [
    "# output top 5 most propagandic statements \n",
    "top_20 = speech_df.sort_values(\"pos_p\",ascending=False).head(20)\n",
    "top_20.to_csv('results/top_20_.csv')\n",
    "top_20\n"
   ]
  },
  {
   "cell_type": "code",
   "execution_count": 132,
   "id": "773da9fc-c1d0-43ce-af6a-b4332c46349e",
   "metadata": {},
   "outputs": [
    {
     "data": {
      "text/html": [
       "<div>\n",
       "<style scoped>\n",
       "    .dataframe tbody tr th:only-of-type {\n",
       "        vertical-align: middle;\n",
       "    }\n",
       "\n",
       "    .dataframe tbody tr th {\n",
       "        vertical-align: top;\n",
       "    }\n",
       "\n",
       "    .dataframe thead th {\n",
       "        text-align: right;\n",
       "    }\n",
       "</style>\n",
       "<table border=\"1\" class=\"dataframe\">\n",
       "  <thead>\n",
       "    <tr style=\"text-align: right;\">\n",
       "      <th></th>\n",
       "      <th>title</th>\n",
       "      <th>speaker</th>\n",
       "      <th>text</th>\n",
       "      <th>neg_p</th>\n",
       "      <th>pos_p</th>\n",
       "    </tr>\n",
       "  </thead>\n",
       "  <tbody>\n",
       "    <tr>\n",
       "      <th>160</th>\n",
       "      <td>Biden1</td>\n",
       "      <td>Biden</td>\n",
       "      <td>Friends gathered at music clubs and pool halls...</td>\n",
       "      <td>0.730967</td>\n",
       "      <td>0.269033</td>\n",
       "    </tr>\n",
       "    <tr>\n",
       "      <th>575</th>\n",
       "      <td>Biden2</td>\n",
       "      <td>Biden</td>\n",
       "      <td>Talk about bullying in schools.</td>\n",
       "      <td>0.730948</td>\n",
       "      <td>0.269052</td>\n",
       "    </tr>\n",
       "    <tr>\n",
       "      <th>208</th>\n",
       "      <td>Biden1</td>\n",
       "      <td>Biden</td>\n",
       "      <td>The death toll records by local officials said...</td>\n",
       "      <td>0.730185</td>\n",
       "      <td>0.269815</td>\n",
       "    </tr>\n",
       "    <tr>\n",
       "      <th>495</th>\n",
       "      <td>Biden2</td>\n",
       "      <td>Biden</td>\n",
       "      <td>My plan will extend the vaccination requiremen...</td>\n",
       "      <td>0.730095</td>\n",
       "      <td>0.269905</td>\n",
       "    </tr>\n",
       "    <tr>\n",
       "      <th>259</th>\n",
       "      <td>Biden1</td>\n",
       "      <td>Biden</td>\n",
       "      <td>Mother Fletcher talks about how she was only a...</td>\n",
       "      <td>0.729856</td>\n",
       "      <td>0.270144</td>\n",
       "    </tr>\n",
       "    <tr>\n",
       "      <th>179</th>\n",
       "      <td>Biden1</td>\n",
       "      <td>Biden</td>\n",
       "      <td>Words were exchanged.</td>\n",
       "      <td>0.729544</td>\n",
       "      <td>0.270456</td>\n",
       "    </tr>\n",
       "    <tr>\n",
       "      <th>32</th>\n",
       "      <td>Trump1</td>\n",
       "      <td>Trump</td>\n",
       "      <td>We will get through this challenge, just like ...</td>\n",
       "      <td>0.729413</td>\n",
       "      <td>0.270587</td>\n",
       "    </tr>\n",
       "    <tr>\n",
       "      <th>288</th>\n",
       "      <td>Biden1</td>\n",
       "      <td>Biden</td>\n",
       "      <td>Second, small businesses are the engines of ou...</td>\n",
       "      <td>0.728296</td>\n",
       "      <td>0.271704</td>\n",
       "    </tr>\n",
       "    <tr>\n",
       "      <th>670</th>\n",
       "      <td>Biden3</td>\n",
       "      <td>Biden</td>\n",
       "      <td>The Russian government’s borrowing rate spiked...</td>\n",
       "      <td>0.728273</td>\n",
       "      <td>0.271727</td>\n",
       "    </tr>\n",
       "    <tr>\n",
       "      <th>159</th>\n",
       "      <td>Biden1</td>\n",
       "      <td>Biden</td>\n",
       "      <td>At the Dreamland Theatre, a young Black couple...</td>\n",
       "      <td>0.728258</td>\n",
       "      <td>0.271742</td>\n",
       "    </tr>\n",
       "    <tr>\n",
       "      <th>630</th>\n",
       "      <td>Biden2</td>\n",
       "      <td>Biden</td>\n",
       "      <td>There’s nothing—not a single thing—we’re unabl...</td>\n",
       "      <td>0.727952</td>\n",
       "      <td>0.272048</td>\n",
       "    </tr>\n",
       "    <tr>\n",
       "      <th>328</th>\n",
       "      <td>Biden1</td>\n",
       "      <td>Biden</td>\n",
       "      <td>But all John wanted to do was talk about how I...</td>\n",
       "      <td>0.727584</td>\n",
       "      <td>0.272416</td>\n",
       "    </tr>\n",
       "    <tr>\n",
       "      <th>162</th>\n",
       "      <td>Biden1</td>\n",
       "      <td>Biden</td>\n",
       "      <td>All around, Black pride shared by the professi...</td>\n",
       "      <td>0.727352</td>\n",
       "      <td>0.272648</td>\n",
       "    </tr>\n",
       "    <tr>\n",
       "      <th>685</th>\n",
       "      <td>Biden3</td>\n",
       "      <td>Biden</td>\n",
       "      <td>It will hurt their ability to build ships, red...</td>\n",
       "      <td>0.727121</td>\n",
       "      <td>0.272879</td>\n",
       "    </tr>\n",
       "    <tr>\n",
       "      <th>424</th>\n",
       "      <td>Biden1</td>\n",
       "      <td>Biden</td>\n",
       "      <td>A little bit, sometimes.</td>\n",
       "      <td>0.726963</td>\n",
       "      <td>0.273037</td>\n",
       "    </tr>\n",
       "    <tr>\n",
       "      <th>712</th>\n",
       "      <td>Biden3</td>\n",
       "      <td>Biden</td>\n",
       "      <td>This is critical to me.</td>\n",
       "      <td>0.726790</td>\n",
       "      <td>0.273210</td>\n",
       "    </tr>\n",
       "    <tr>\n",
       "      <th>141</th>\n",
       "      <td>Biden1</td>\n",
       "      <td>Biden</td>\n",
       "      <td>For much too long, the history of what took pl...</td>\n",
       "      <td>0.726788</td>\n",
       "      <td>0.273212</td>\n",
       "    </tr>\n",
       "    <tr>\n",
       "      <th>445</th>\n",
       "      <td>Biden2</td>\n",
       "      <td>Biden</td>\n",
       "      <td>Just weeks in office, we did.</td>\n",
       "      <td>0.726668</td>\n",
       "      <td>0.273332</td>\n",
       "    </tr>\n",
       "    <tr>\n",
       "      <th>99</th>\n",
       "      <td>Trump2</td>\n",
       "      <td>Trump</td>\n",
       "      <td>Tens of thousands of ISIS fighters have been k...</td>\n",
       "      <td>0.726601</td>\n",
       "      <td>0.273399</td>\n",
       "    </tr>\n",
       "    <tr>\n",
       "      <th>57</th>\n",
       "      <td>Trump2</td>\n",
       "      <td>Trump</td>\n",
       "      <td>He trained terrorist armies, including Hezboll...</td>\n",
       "      <td>0.726547</td>\n",
       "      <td>0.273453</td>\n",
       "    </tr>\n",
       "  </tbody>\n",
       "</table>\n",
       "</div>"
      ],
      "text/plain": [
       "      title speaker                                               text  \\\n",
       "160  Biden1   Biden  Friends gathered at music clubs and pool halls...   \n",
       "575  Biden2   Biden                    Talk about bullying in schools.   \n",
       "208  Biden1   Biden  The death toll records by local officials said...   \n",
       "495  Biden2   Biden  My plan will extend the vaccination requiremen...   \n",
       "259  Biden1   Biden  Mother Fletcher talks about how she was only a...   \n",
       "179  Biden1   Biden                              Words were exchanged.   \n",
       "32   Trump1   Trump  We will get through this challenge, just like ...   \n",
       "288  Biden1   Biden  Second, small businesses are the engines of ou...   \n",
       "670  Biden3   Biden  The Russian government’s borrowing rate spiked...   \n",
       "159  Biden1   Biden  At the Dreamland Theatre, a young Black couple...   \n",
       "630  Biden2   Biden  There’s nothing—not a single thing—we’re unabl...   \n",
       "328  Biden1   Biden  But all John wanted to do was talk about how I...   \n",
       "162  Biden1   Biden  All around, Black pride shared by the professi...   \n",
       "685  Biden3   Biden  It will hurt their ability to build ships, red...   \n",
       "424  Biden1   Biden                           A little bit, sometimes.   \n",
       "712  Biden3   Biden                            This is critical to me.   \n",
       "141  Biden1   Biden  For much too long, the history of what took pl...   \n",
       "445  Biden2   Biden                      Just weeks in office, we did.   \n",
       "99   Trump2   Trump  Tens of thousands of ISIS fighters have been k...   \n",
       "57   Trump2   Trump  He trained terrorist armies, including Hezboll...   \n",
       "\n",
       "        neg_p     pos_p  \n",
       "160  0.730967  0.269033  \n",
       "575  0.730948  0.269052  \n",
       "208  0.730185  0.269815  \n",
       "495  0.730095  0.269905  \n",
       "259  0.729856  0.270144  \n",
       "179  0.729544  0.270456  \n",
       "32   0.729413  0.270587  \n",
       "288  0.728296  0.271704  \n",
       "670  0.728273  0.271727  \n",
       "159  0.728258  0.271742  \n",
       "630  0.727952  0.272048  \n",
       "328  0.727584  0.272416  \n",
       "162  0.727352  0.272648  \n",
       "685  0.727121  0.272879  \n",
       "424  0.726963  0.273037  \n",
       "712  0.726790  0.273210  \n",
       "141  0.726788  0.273212  \n",
       "445  0.726668  0.273332  \n",
       "99   0.726601  0.273399  \n",
       "57   0.726547  0.273453  "
      ]
     },
     "execution_count": 132,
     "metadata": {},
     "output_type": "execute_result"
    }
   ],
   "source": [
    "# output top 5 most propagandic statements \n",
    "bottom_20 = speech_df.sort_values(\"neg_p\",ascending=False).head(20)\n",
    "bottom_20.to_csv('results/bottom_20_.csv')\n",
    "bottom_20\n"
   ]
  },
  {
   "cell_type": "code",
   "execution_count": null,
   "id": "1521b63b-fcd4-4d15-b545-03e45d267958",
   "metadata": {},
   "outputs": [],
   "source": []
  }
 ],
 "metadata": {
  "kernelspec": {
   "display_name": "Python 3 (ipykernel)",
   "language": "python",
   "name": "python3"
  },
  "language_info": {
   "codemirror_mode": {
    "name": "ipython",
    "version": 3
   },
   "file_extension": ".py",
   "mimetype": "text/x-python",
   "name": "python",
   "nbconvert_exporter": "python",
   "pygments_lexer": "ipython3",
   "version": "3.9.7"
  }
 },
 "nbformat": 4,
 "nbformat_minor": 5
}
