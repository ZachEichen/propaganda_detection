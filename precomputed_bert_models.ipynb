{
 "cells": [
  {
   "cell_type": "code",
   "execution_count": 8,
   "id": "6b8bc6fb-7f19-49ad-bca1-fc580882ab80",
   "metadata": {},
   "outputs": [
    {
     "name": "stdout",
     "output_type": "stream",
     "text": [
      "The autoreload extension is already loaded. To reload it, use:\n",
      "  %reload_ext autoreload\n",
      "\u001b[34m__pycache__\u001b[m\u001b[m            hwaj_notebook.ipynb    \u001b[34mresults\u001b[m\u001b[m\n",
      "\u001b[34mbaselines\u001b[m\u001b[m              ingest_data_test.ipynb \u001b[34msaved_models\u001b[m\u001b[m\n",
      "\u001b[34mdata_logical_fallacy\u001b[m\u001b[m   model.py               \u001b[34mtrainingOutput\u001b[m\u001b[m\n",
      "\u001b[34mdata_proppy\u001b[m\u001b[m            new_model.py           use_tep.ipynb\n",
      "dataset.py             pytorch_train.py\n",
      "dataset_bert.py        readme.md\n"
     ]
    }
   ],
   "source": [
    "%load_ext autoreload\n",
    "%autoreload 2\n",
    "\n",
    "import torch\n",
    "import transformers\n",
    "import pandas as pd \n",
    "import text_extensions_for_pandas as tp\n",
    "from tqdm import tqdm\n",
    "import numpy as np\n",
    "from pathlib import Path\n",
    "from torch.utils.data import DataLoader\n",
    "\n",
    "!ls"
   ]
  },
  {
   "cell_type": "code",
   "execution_count": 11,
   "id": "a0a7ac81-dfd8-4676-87f0-2982a2d78742",
   "metadata": {},
   "outputs": [
    {
     "data": {
      "text/html": [
       "<div>\n",
       "<style scoped>\n",
       "    .dataframe tbody tr th:only-of-type {\n",
       "        vertical-align: middle;\n",
       "    }\n",
       "\n",
       "    .dataframe tbody tr th {\n",
       "        vertical-align: top;\n",
       "    }\n",
       "\n",
       "    .dataframe thead th {\n",
       "        text-align: right;\n",
       "    }\n",
       "</style>\n",
       "<table border=\"1\" class=\"dataframe\">\n",
       "  <thead>\n",
       "    <tr style=\"text-align: right;\">\n",
       "      <th></th>\n",
       "      <th>text</th>\n",
       "      <th>average_tone</th>\n",
       "      <th>source_name</th>\n",
       "      <th>propaganda_label</th>\n",
       "    </tr>\n",
       "  </thead>\n",
       "  <tbody>\n",
       "    <tr>\n",
       "      <th>0</th>\n",
       "      <td>Convened to examine the causes of civil unrest...</td>\n",
       "      <td>-4.593640</td>\n",
       "      <td>The Hartford Courant</td>\n",
       "      <td>-1</td>\n",
       "    </tr>\n",
       "    <tr>\n",
       "      <th>1</th>\n",
       "      <td>Discriminating against someone on the basis of...</td>\n",
       "      <td>-1.566952</td>\n",
       "      <td>The Hartford Courant</td>\n",
       "      <td>-1</td>\n",
       "    </tr>\n",
       "    <tr>\n",
       "      <th>2</th>\n",
       "      <td>Bill Cosby's 44-year-old daughter, Ensa Cosby,...</td>\n",
       "      <td>-6.150660</td>\n",
       "      <td>The Hartford Courant</td>\n",
       "      <td>-1</td>\n",
       "    </tr>\n",
       "    <tr>\n",
       "      <th>3</th>\n",
       "      <td>The fast-moving, powerful theatrical locomotiv...</td>\n",
       "      <td>1.524390</td>\n",
       "      <td>The Hartford Courant</td>\n",
       "      <td>-1</td>\n",
       "    </tr>\n",
       "    <tr>\n",
       "      <th>4</th>\n",
       "      <td>It's Friday. It's National Pizza Day. Grab lif...</td>\n",
       "      <td>1.197605</td>\n",
       "      <td>The Hartford Courant</td>\n",
       "      <td>-1</td>\n",
       "    </tr>\n",
       "  </tbody>\n",
       "</table>\n",
       "</div>"
      ],
      "text/plain": [
       "                                                text  average_tone  \\\n",
       "0  Convened to examine the causes of civil unrest...     -4.593640   \n",
       "1  Discriminating against someone on the basis of...     -1.566952   \n",
       "2  Bill Cosby's 44-year-old daughter, Ensa Cosby,...     -6.150660   \n",
       "3  The fast-moving, powerful theatrical locomotiv...      1.524390   \n",
       "4  It's Friday. It's National Pizza Day. Grab lif...      1.197605   \n",
       "\n",
       "            source_name  propaganda_label  \n",
       "0  The Hartford Courant                -1  \n",
       "1  The Hartford Courant                -1  \n",
       "2  The Hartford Courant                -1  \n",
       "3  The Hartford Courant                -1  \n",
       "4  The Hartford Courant                -1  "
      ]
     },
     "execution_count": 11,
     "metadata": {},
     "output_type": "execute_result"
    }
   ],
   "source": [
    "colnames = ['text','event_location','average_tone','article_date','article_ID','article_URL_1','MBFC_factuality_label_1','article_URL','MBFC_factuality_label','URL_to_MBFC_page','source_name','MBFC_notes_about_source','MBFC_bias_label','source_URL','propaganda_label']\n",
    "proppy_dev = pd.read_csv(\"data_proppy/proppy_1.0.dev.tsv\",sep='\\t',names=colnames)[[\"text\",'average_tone','source_name','propaganda_label']]\n",
    "proppy_dev.head()"
   ]
  },
  {
   "cell_type": "code",
   "execution_count": null,
   "id": "9f9532e7-19cc-41a4-9264-5e28d234e21d",
   "metadata": {},
   "outputs": [
    {
     "name": "stderr",
     "output_type": "stream",
     "text": [
      "Some weights of the model checkpoint at bert-base-uncased were not used when initializing BertModel: ['cls.seq_relationship.weight', 'cls.predictions.transform.LayerNorm.bias', 'cls.predictions.decoder.weight', 'cls.predictions.transform.dense.weight', 'cls.predictions.bias', 'cls.predictions.transform.LayerNorm.weight', 'cls.predictions.transform.dense.bias', 'cls.seq_relationship.bias']\n",
      "- This IS expected if you are initializing BertModel from the checkpoint of a model trained on another task or with another architecture (e.g. initializing a BertForSequenceClassification model from a BertForPreTraining model).\n",
      "- This IS NOT expected if you are initializing BertModel from the checkpoint of a model that you expect to be exactly identical (initializing a BertForSequenceClassification model from a BertForSequenceClassification model).\n"
     ]
    }
   ],
   "source": [
    "bert_model_name = \"bert-base-uncased\"\n",
    "\n",
    "tokenizer = transformers.BertTokenizerFast.from_pretrained(bert_model_name, \n",
    "                                                           add_special_tokens=True)\n",
    "bert = transformers.BertModel.from_pretrained(bert_model_name)\n",
    "\n",
    "\n"
   ]
  },
  {
   "cell_type": "code",
   "execution_count": 39,
   "id": "3ec64e9e-6946-4366-bbe3-227cfaa7e566",
   "metadata": {},
   "outputs": [
    {
     "name": "stderr",
     "output_type": "stream",
     "text": [
      "5125it [3:37:40,  2.55s/it]\n"
     ]
    }
   ],
   "source": [
    "feats = np.zeros([len(proppy_dev),768])\n",
    "\n",
    "for i,row in tqdm(proppy_dev.iterrows()): \n",
    "    toks = tp.io.bert.make_bert_tokens(proppy_dev.text[i],tokenizer)\n",
    "    emb_df = tp.io.bert.add_embeddings(toks, bert)\n",
    "    feats[i,:] = emb_df.embedding.to_numpy().mean(axis=0)\n",
    "    \n",
    "    \n",
    "    "
   ]
  },
  {
   "cell_type": "code",
   "execution_count": 40,
   "id": "a3e3d9d2-b08d-44a1-b3f7-a149e2aa30be",
   "metadata": {},
   "outputs": [
    {
     "data": {
      "text/plain": [
       "5125"
      ]
     },
     "execution_count": 40,
     "metadata": {},
     "output_type": "execute_result"
    }
   ],
   "source": [
    "len(proppy_dev)"
   ]
  },
  {
   "cell_type": "code",
   "execution_count": 41,
   "id": "df2345bc-d04e-47af-86b2-182d0a80bc70",
   "metadata": {},
   "outputs": [
    {
     "data": {
      "text/plain": [
       "array([[-0.07519729,  0.1750659 ,  0.22689338, ..., -0.06930672,\n",
       "         0.06440458, -0.00516594],\n",
       "       [-0.10818958,  0.09823903,  0.13773319, ...,  0.04717225,\n",
       "        -0.00811862,  0.14017554],\n",
       "       [-0.13764539,  0.02021009,  0.24139456, ...,  0.03524834,\n",
       "         0.21321787, -0.08245312],\n",
       "       ...,\n",
       "       [-0.1374764 ,  0.10403664,  0.13267258, ..., -0.02726575,\n",
       "         0.19213852,  0.14666592],\n",
       "       [ 0.05461893,  0.3660191 ,  0.19056308, ..., -0.06918009,\n",
       "         0.20644763,  0.0774904 ],\n",
       "       [ 0.05102529,  0.07965963,  0.25242335, ..., -0.09123608,\n",
       "         0.2235851 ,  0.09679378]])"
      ]
     },
     "execution_count": 41,
     "metadata": {},
     "output_type": "execute_result"
    }
   ],
   "source": [
    "feats"
   ]
  },
  {
   "cell_type": "code",
   "execution_count": 42,
   "id": "90dd735b-2094-49a4-b5ca-1dbaea2f2984",
   "metadata": {},
   "outputs": [],
   "source": [
    "feats_pt = torch.from_numpy(feats)\n"
   ]
  },
  {
   "cell_type": "code",
   "execution_count": 44,
   "id": "66abd250-f98b-405a-b18b-f0d8e9da50d4",
   "metadata": {},
   "outputs": [],
   "source": [
    "torch.save(feats_pt,\"results/proppy_dev.pt\")"
   ]
  },
  {
   "cell_type": "code",
   "execution_count": null,
   "id": "973c8cae-25ef-4012-8e3a-2d210767fa32",
   "metadata": {},
   "outputs": [],
   "source": []
  },
  {
   "cell_type": "code",
   "execution_count": 294,
   "id": "b84520bb-0afe-4479-bfdb-4fefd46fda2c",
   "metadata": {},
   "outputs": [
    {
     "data": {
      "text/html": [
       "<div>\n",
       "<style scoped>\n",
       "    .dataframe tbody tr th:only-of-type {\n",
       "        vertical-align: middle;\n",
       "    }\n",
       "\n",
       "    .dataframe tbody tr th {\n",
       "        vertical-align: top;\n",
       "    }\n",
       "\n",
       "    .dataframe thead th {\n",
       "        text-align: right;\n",
       "    }\n",
       "</style>\n",
       "<table border=\"1\" class=\"dataframe\">\n",
       "  <thead>\n",
       "    <tr style=\"text-align: right;\">\n",
       "      <th></th>\n",
       "      <th>text</th>\n",
       "      <th>average_tone</th>\n",
       "      <th>source_name</th>\n",
       "      <th>propaganda_label</th>\n",
       "    </tr>\n",
       "  </thead>\n",
       "  <tbody>\n",
       "    <tr>\n",
       "      <th>0</th>\n",
       "      <td>Et tu, Rhody?  A recent editorial in the Provi...</td>\n",
       "      <td>-3.181818</td>\n",
       "      <td>The Hartford Courant</td>\n",
       "      <td>-1</td>\n",
       "    </tr>\n",
       "    <tr>\n",
       "      <th>1</th>\n",
       "      <td>A recent post in The Farmington Mirror — our t...</td>\n",
       "      <td>-0.424328</td>\n",
       "      <td>The Hartford Courant</td>\n",
       "      <td>-1</td>\n",
       "    </tr>\n",
       "    <tr>\n",
       "      <th>2</th>\n",
       "      <td>President Donald Trump, as he often does while...</td>\n",
       "      <td>-2.469136</td>\n",
       "      <td>The Hartford Courant</td>\n",
       "      <td>-1</td>\n",
       "    </tr>\n",
       "    <tr>\n",
       "      <th>3</th>\n",
       "      <td>February is Black History Month, and nothing l...</td>\n",
       "      <td>-0.894632</td>\n",
       "      <td>The Hartford Courant</td>\n",
       "      <td>-1</td>\n",
       "    </tr>\n",
       "    <tr>\n",
       "      <th>4</th>\n",
       "      <td>The snow was so heavy, whipped up by gusting w...</td>\n",
       "      <td>-4.800000</td>\n",
       "      <td>The Hartford Courant</td>\n",
       "      <td>-1</td>\n",
       "    </tr>\n",
       "  </tbody>\n",
       "</table>\n",
       "</div>"
      ],
      "text/plain": [
       "                                                text  average_tone  \\\n",
       "0  Et tu, Rhody?  A recent editorial in the Provi...     -3.181818   \n",
       "1  A recent post in The Farmington Mirror — our t...     -0.424328   \n",
       "2  President Donald Trump, as he often does while...     -2.469136   \n",
       "3  February is Black History Month, and nothing l...     -0.894632   \n",
       "4  The snow was so heavy, whipped up by gusting w...     -4.800000   \n",
       "\n",
       "            source_name  propaganda_label  \n",
       "0  The Hartford Courant                -1  \n",
       "1  The Hartford Courant                -1  \n",
       "2  The Hartford Courant                -1  \n",
       "3  The Hartford Courant                -1  \n",
       "4  The Hartford Courant                -1  "
      ]
     },
     "execution_count": 294,
     "metadata": {},
     "output_type": "execute_result"
    }
   ],
   "source": [
    "proppy_train = pd.read_csv(\"data_proppy/proppy_1.0.train.tsv\",sep='\\t',names=colnames)[[\"text\",'average_tone','source_name','propaganda_label']]\n",
    "proppy_train.head()"
   ]
  },
  {
   "cell_type": "code",
   "execution_count": 305,
   "id": "c94da1d0-4c68-45d4-a351-2f7705c86ab2",
   "metadata": {},
   "outputs": [
    {
     "data": {
      "text/html": [
       "<div>\n",
       "<style scoped>\n",
       "    .dataframe tbody tr th:only-of-type {\n",
       "        vertical-align: middle;\n",
       "    }\n",
       "\n",
       "    .dataframe tbody tr th {\n",
       "        vertical-align: top;\n",
       "    }\n",
       "\n",
       "    .dataframe thead th {\n",
       "        text-align: right;\n",
       "    }\n",
       "</style>\n",
       "<table border=\"1\" class=\"dataframe\">\n",
       "  <thead>\n",
       "    <tr style=\"text-align: right;\">\n",
       "      <th></th>\n",
       "      <th>count</th>\n",
       "      <th>perc</th>\n",
       "    </tr>\n",
       "    <tr>\n",
       "      <th>propaganda_label</th>\n",
       "      <th></th>\n",
       "      <th></th>\n",
       "    </tr>\n",
       "  </thead>\n",
       "  <tbody>\n",
       "    <tr>\n",
       "      <th>-1</th>\n",
       "      <td>31965</td>\n",
       "      <td>0.888262</td>\n",
       "    </tr>\n",
       "    <tr>\n",
       "      <th>1</th>\n",
       "      <td>4021</td>\n",
       "      <td>0.111738</td>\n",
       "    </tr>\n",
       "  </tbody>\n",
       "</table>\n",
       "</div>"
      ],
      "text/plain": [
       "                  count      perc\n",
       "propaganda_label                 \n",
       "-1                31965  0.888262\n",
       " 1                 4021  0.111738"
      ]
     },
     "execution_count": 305,
     "metadata": {},
     "output_type": "execute_result"
    }
   ],
   "source": [
    "ratios = proppy_train[[\"text\",\"propaganda_label\"]].rename(columns={'text':'count'}).groupby(\"propaganda_label\").count()\n",
    "\n",
    "ratios[\"perc\"] = ratios['count']/ ratios['count'].to_numpy().sum()\n",
    "ratios"
   ]
  },
  {
   "cell_type": "code",
   "execution_count": 47,
   "id": "8f5a9770-5ea0-4162-8ce9-09642da7b2ef",
   "metadata": {},
   "outputs": [
    {
     "name": "stderr",
     "output_type": "stream",
     "text": [
      "35986it [25:19:36,  2.53s/it]\n"
     ]
    }
   ],
   "source": [
    "feats_train = np.zeros([len(proppy_train),768])\n",
    "\n",
    "for i,row in tqdm(proppy_train.iterrows()): \n",
    "    toks = tp.io.bert.make_bert_tokens(proppy_train.text[i],tokenizer)\n",
    "    emb_df = tp.io.bert.add_embeddings(toks, bert)\n",
    "    feats_train[i,:] = emb_df.embedding.to_numpy().mean(axis=0)"
   ]
  },
  {
   "cell_type": "code",
   "execution_count": 48,
   "id": "352bca59-67b5-44ab-a2d8-a53671002dd0",
   "metadata": {},
   "outputs": [],
   "source": [
    "train_pt = torch.from_numpy(feats_train)\n",
    "torch.save(train_pt,\"results/proppy_train.pt\")"
   ]
  },
  {
   "cell_type": "code",
   "execution_count": null,
   "id": "262903b6-3b68-4f53-939d-f10666659554",
   "metadata": {},
   "outputs": [],
   "source": []
  },
  {
   "cell_type": "code",
   "execution_count": 49,
   "id": "0bf71b31-e1c1-4a9b-9e48-71e679ad6e53",
   "metadata": {},
   "outputs": [
    {
     "data": {
      "text/html": [
       "<div>\n",
       "<style scoped>\n",
       "    .dataframe tbody tr th:only-of-type {\n",
       "        vertical-align: middle;\n",
       "    }\n",
       "\n",
       "    .dataframe tbody tr th {\n",
       "        vertical-align: top;\n",
       "    }\n",
       "\n",
       "    .dataframe thead th {\n",
       "        text-align: right;\n",
       "    }\n",
       "</style>\n",
       "<table border=\"1\" class=\"dataframe\">\n",
       "  <thead>\n",
       "    <tr style=\"text-align: right;\">\n",
       "      <th></th>\n",
       "      <th>text</th>\n",
       "      <th>average_tone</th>\n",
       "      <th>source_name</th>\n",
       "      <th>propaganda_label</th>\n",
       "    </tr>\n",
       "  </thead>\n",
       "  <tbody>\n",
       "    <tr>\n",
       "      <th>0</th>\n",
       "      <td>Eat in Connecticut teamed up with End Hunger C...</td>\n",
       "      <td>0.781250</td>\n",
       "      <td>The Hartford Courant</td>\n",
       "      <td>-1</td>\n",
       "    </tr>\n",
       "    <tr>\n",
       "      <th>1</th>\n",
       "      <td>Owners of an old Pennsylvania power plant that...</td>\n",
       "      <td>-1.615799</td>\n",
       "      <td>The Hartford Courant</td>\n",
       "      <td>-1</td>\n",
       "    </tr>\n",
       "    <tr>\n",
       "      <th>2</th>\n",
       "      <td>The majority owner of President Donald Trump's...</td>\n",
       "      <td>-4.177546</td>\n",
       "      <td>The Hartford Courant</td>\n",
       "      <td>-1</td>\n",
       "    </tr>\n",
       "    <tr>\n",
       "      <th>3</th>\n",
       "      <td>Connecticut’s most likely option for using tol...</td>\n",
       "      <td>-7.200811</td>\n",
       "      <td>The Hartford Courant</td>\n",
       "      <td>-1</td>\n",
       "    </tr>\n",
       "    <tr>\n",
       "      <th>4</th>\n",
       "      <td>Escaped prisoner Jerry Mercado is back in Conn...</td>\n",
       "      <td>-6.534091</td>\n",
       "      <td>The Hartford Courant</td>\n",
       "      <td>-1</td>\n",
       "    </tr>\n",
       "  </tbody>\n",
       "</table>\n",
       "</div>"
      ],
      "text/plain": [
       "                                                text  average_tone  \\\n",
       "0  Eat in Connecticut teamed up with End Hunger C...      0.781250   \n",
       "1  Owners of an old Pennsylvania power plant that...     -1.615799   \n",
       "2  The majority owner of President Donald Trump's...     -4.177546   \n",
       "3  Connecticut’s most likely option for using tol...     -7.200811   \n",
       "4  Escaped prisoner Jerry Mercado is back in Conn...     -6.534091   \n",
       "\n",
       "            source_name  propaganda_label  \n",
       "0  The Hartford Courant                -1  \n",
       "1  The Hartford Courant                -1  \n",
       "2  The Hartford Courant                -1  \n",
       "3  The Hartford Courant                -1  \n",
       "4  The Hartford Courant                -1  "
      ]
     },
     "execution_count": 49,
     "metadata": {},
     "output_type": "execute_result"
    }
   ],
   "source": [
    "proppy_test = pd.read_csv(\"data_proppy/proppy_1.0.test.tsv\",sep='\\t',names=colnames)[[\"text\",'average_tone','source_name','propaganda_label']]\n",
    "proppy_test.head()"
   ]
  },
  {
   "cell_type": "code",
   "execution_count": 50,
   "id": "3d9906f5-a72f-42d9-b79c-ca9a90854948",
   "metadata": {},
   "outputs": [
    {
     "name": "stderr",
     "output_type": "stream",
     "text": [
      "10159it [6:41:51,  2.37s/it]\n"
     ]
    }
   ],
   "source": [
    "feats_test = np.zeros([len(proppy_test),768])\n",
    "\n",
    "for i,row in tqdm(proppy_test.iterrows()): \n",
    "    toks = tp.io.bert.make_bert_tokens(proppy_test.text[i],tokenizer)\n",
    "    emb_df = tp.io.bert.add_embeddings(toks, bert)\n",
    "    feats_test[i,:] = emb_df.embedding.to_numpy().mean(axis=0)\n",
    "    "
   ]
  },
  {
   "cell_type": "code",
   "execution_count": 221,
   "id": "6f16db5c-bfa5-49c7-9421-f036f0376219",
   "metadata": {},
   "outputs": [],
   "source": [
    "test_pt = torch.from_numpy(feats_test)\n",
    "torch.save(test_pt,\"results/proppy_test.pt\")"
   ]
  },
  {
   "cell_type": "code",
   "execution_count": 63,
   "id": "05d6e715-7b81-4e3b-a3a9-c73c685d750f",
   "metadata": {},
   "outputs": [],
   "source": [
    "# define funct that does ^ \n",
    "def make_emb_vecs(df, tokenizer, bert, out_file_name = None, text_col = \"text\"): \n",
    "    feats = np.zeros([len(df),768])\n",
    "    for i in tqdm(range(len(df))): \n",
    "        toks = tp.io.bert.make_bert_tokens(df.loc[i,text_col],tokenizer)\n",
    "        emb_df = tp.io.bert.add_embeddings(toks,bert) \n",
    "        feats[i,:] = emb_df.embedding.to_numpy().mean(axis=0)\n",
    "    if out_file_name is not None: \n",
    "        torch.save(torch.from_numpy(feats),out_file_name)\n",
    "    return feats \n"
   ]
  },
  {
   "cell_type": "code",
   "execution_count": 65,
   "id": "7a293690-2bde-429a-b51c-09b43f161e5e",
   "metadata": {},
   "outputs": [
    {
     "data": {
      "text/html": [
       "<div>\n",
       "<style scoped>\n",
       "    .dataframe tbody tr th:only-of-type {\n",
       "        vertical-align: middle;\n",
       "    }\n",
       "\n",
       "    .dataframe tbody tr th {\n",
       "        vertical-align: top;\n",
       "    }\n",
       "\n",
       "    .dataframe thead th {\n",
       "        text-align: right;\n",
       "    }\n",
       "</style>\n",
       "<table border=\"1\" class=\"dataframe\">\n",
       "  <thead>\n",
       "    <tr style=\"text-align: right;\">\n",
       "      <th></th>\n",
       "      <th>Unnamed: 0</th>\n",
       "      <th>original_url</th>\n",
       "      <th>source_article</th>\n",
       "      <th>logical_fallacies</th>\n",
       "    </tr>\n",
       "  </thead>\n",
       "  <tbody>\n",
       "    <tr>\n",
       "      <th>0</th>\n",
       "      <td>52</td>\n",
       "      <td>https://www.thesun.co.uk/tech/11044576/new-isl...</td>\n",
       "      <td>Rising temperatures in Antarctica over the pas...</td>\n",
       "      <td>false causality</td>\n",
       "    </tr>\n",
       "    <tr>\n",
       "      <th>1</th>\n",
       "      <td>1226</td>\n",
       "      <td>https://www.forbes.com/sites/robertbradley/201...</td>\n",
       "      <td>Green activists are at war with the greatest A...</td>\n",
       "      <td>intentional</td>\n",
       "    </tr>\n",
       "    <tr>\n",
       "      <th>2</th>\n",
       "      <td>413</td>\n",
       "      <td>https://www.bostonglobe.com/opinion/columns/20...</td>\n",
       "      <td>The list of variables that shape climate inclu...</td>\n",
       "      <td>fallacy of extension</td>\n",
       "    </tr>\n",
       "    <tr>\n",
       "      <th>3</th>\n",
       "      <td>1112</td>\n",
       "      <td>http://www.breitbart.com/big-government/2017/0...</td>\n",
       "      <td>What all these papers argue in their different...</td>\n",
       "      <td>intentional</td>\n",
       "    </tr>\n",
       "    <tr>\n",
       "      <th>4</th>\n",
       "      <td>559</td>\n",
       "      <td>https://www.forbes.com/sites/jamestaylor/2015/...</td>\n",
       "      <td>The Facts\\n\\nGlobal warming alarmists ’ prefer...</td>\n",
       "      <td>fallacy of logic</td>\n",
       "    </tr>\n",
       "    <tr>\n",
       "      <th>...</th>\n",
       "      <td>...</td>\n",
       "      <td>...</td>\n",
       "      <td>...</td>\n",
       "      <td>...</td>\n",
       "    </tr>\n",
       "    <tr>\n",
       "      <th>195</th>\n",
       "      <td>1341</td>\n",
       "      <td>https://www.telegraph.co.uk/news/science/11733...</td>\n",
       "      <td>The earth is 15 years from a period of low sol...</td>\n",
       "      <td>intentional</td>\n",
       "    </tr>\n",
       "    <tr>\n",
       "      <th>196</th>\n",
       "      <td>1018</td>\n",
       "      <td>https://www.theatlantic.com/health/archive/201...</td>\n",
       "      <td>To understand why the climate impact of beef a...</td>\n",
       "      <td>fallacy of logic</td>\n",
       "    </tr>\n",
       "    <tr>\n",
       "      <th>197</th>\n",
       "      <td>375</td>\n",
       "      <td>http://www.cnn.com/2017/05/29/opinions/withdra...</td>\n",
       "      <td>And as soon as possible , President Trump shou...</td>\n",
       "      <td>fallacy of extension</td>\n",
       "    </tr>\n",
       "    <tr>\n",
       "      <th>198</th>\n",
       "      <td>1165</td>\n",
       "      <td>https://www.telegraph.co.uk/news/2017/05/06/an...</td>\n",
       "      <td>Inevitably , when even satellite temperatures ...</td>\n",
       "      <td>intentional</td>\n",
       "    </tr>\n",
       "    <tr>\n",
       "      <th>199</th>\n",
       "      <td>1051</td>\n",
       "      <td>http://www.theaustralian.com.au/opinion/misgui...</td>\n",
       "      <td>The worldwide temperature record has been chan...</td>\n",
       "      <td>intentional</td>\n",
       "    </tr>\n",
       "  </tbody>\n",
       "</table>\n",
       "<p>200 rows × 4 columns</p>\n",
       "</div>"
      ],
      "text/plain": [
       "     Unnamed: 0                                       original_url  \\\n",
       "0            52  https://www.thesun.co.uk/tech/11044576/new-isl...   \n",
       "1          1226  https://www.forbes.com/sites/robertbradley/201...   \n",
       "2           413  https://www.bostonglobe.com/opinion/columns/20...   \n",
       "3          1112  http://www.breitbart.com/big-government/2017/0...   \n",
       "4           559  https://www.forbes.com/sites/jamestaylor/2015/...   \n",
       "..          ...                                                ...   \n",
       "195        1341  https://www.telegraph.co.uk/news/science/11733...   \n",
       "196        1018  https://www.theatlantic.com/health/archive/201...   \n",
       "197         375  http://www.cnn.com/2017/05/29/opinions/withdra...   \n",
       "198        1165  https://www.telegraph.co.uk/news/2017/05/06/an...   \n",
       "199        1051  http://www.theaustralian.com.au/opinion/misgui...   \n",
       "\n",
       "                                        source_article     logical_fallacies  \n",
       "0    Rising temperatures in Antarctica over the pas...       false causality  \n",
       "1    Green activists are at war with the greatest A...           intentional  \n",
       "2    The list of variables that shape climate inclu...  fallacy of extension  \n",
       "3    What all these papers argue in their different...           intentional  \n",
       "4    The Facts\\n\\nGlobal warming alarmists ’ prefer...      fallacy of logic  \n",
       "..                                                 ...                   ...  \n",
       "195  The earth is 15 years from a period of low sol...           intentional  \n",
       "196  To understand why the climate impact of beef a...      fallacy of logic  \n",
       "197  And as soon as possible , President Trump shou...  fallacy of extension  \n",
       "198  Inevitably , when even satellite temperatures ...           intentional  \n",
       "199  The worldwide temperature record has been chan...           intentional  \n",
       "\n",
       "[200 rows x 4 columns]"
      ]
     },
     "execution_count": 65,
     "metadata": {},
     "output_type": "execute_result"
    }
   ],
   "source": [
    "train_fal_df = pd.read_csv(\"data_logical_fallacy/climate_train.csv\")\n",
    "test_fal_df  = pd.read_csv(\"data_logical_fallacy/climate_test.csv\")\n",
    "dev_fal_df   = pd.read_csv(\"data_logical_fallacy/climate_dev.csv\")\n",
    "dev_fal_df"
   ]
  },
  {
   "cell_type": "code",
   "execution_count": 12,
   "id": "f07b0b26-438f-43d6-aca5-e9ec750b0648",
   "metadata": {},
   "outputs": [
    {
     "ename": "NameError",
     "evalue": "name 'make_emb_vecs' is not defined",
     "output_type": "error",
     "traceback": [
      "\u001b[0;31m---------------------------------------------------------------------------\u001b[0m",
      "\u001b[0;31mNameError\u001b[0m                                 Traceback (most recent call last)",
      "\u001b[0;32m/var/folders/t2/zj8pbr4n4lqgcxpzd2lbwk2w0000gn/T/ipykernel_99739/3910011756.py\u001b[0m in \u001b[0;36m<module>\u001b[0;34m\u001b[0m\n\u001b[0;32m----> 1\u001b[0;31m \u001b[0mfal_train_feats\u001b[0m \u001b[0;34m=\u001b[0m \u001b[0mmake_emb_vecs\u001b[0m\u001b[0;34m(\u001b[0m\u001b[0mtrain_fal_df\u001b[0m\u001b[0;34m,\u001b[0m\u001b[0mtokenizer\u001b[0m\u001b[0;34m,\u001b[0m\u001b[0mbert\u001b[0m\u001b[0;34m,\u001b[0m\u001b[0;34m\"results/climate_train.pt\"\u001b[0m\u001b[0;34m,\u001b[0m\u001b[0mtext_col\u001b[0m \u001b[0;34m=\u001b[0m \u001b[0;34m\"source_article\"\u001b[0m\u001b[0;34m)\u001b[0m\u001b[0;34m\u001b[0m\u001b[0;34m\u001b[0m\u001b[0m\n\u001b[0m\u001b[1;32m      2\u001b[0m \u001b[0mfal_dev_feats\u001b[0m \u001b[0;34m=\u001b[0m \u001b[0mmake_emb_vecs\u001b[0m\u001b[0;34m(\u001b[0m\u001b[0mdev_fal_df\u001b[0m\u001b[0;34m,\u001b[0m\u001b[0mtokenizer\u001b[0m\u001b[0;34m,\u001b[0m\u001b[0mbert\u001b[0m\u001b[0;34m,\u001b[0m\u001b[0;34m\"results/climate_dev.pt\"\u001b[0m\u001b[0;34m,\u001b[0m\u001b[0mtext_col\u001b[0m \u001b[0;34m=\u001b[0m \u001b[0;34m\"source_article\"\u001b[0m\u001b[0;34m)\u001b[0m\u001b[0;34m\u001b[0m\u001b[0;34m\u001b[0m\u001b[0m\n\u001b[1;32m      3\u001b[0m \u001b[0mfal_test_feats\u001b[0m \u001b[0;34m=\u001b[0m \u001b[0mmake_emb_vecs\u001b[0m\u001b[0;34m(\u001b[0m\u001b[0mtest_fal_df\u001b[0m\u001b[0;34m,\u001b[0m\u001b[0mtokenizer\u001b[0m\u001b[0;34m,\u001b[0m\u001b[0mbert\u001b[0m\u001b[0;34m,\u001b[0m\u001b[0;34m\"results/climate_test.pt\"\u001b[0m\u001b[0;34m,\u001b[0m\u001b[0mtext_col\u001b[0m \u001b[0;34m=\u001b[0m \u001b[0;34m\"source_article\"\u001b[0m\u001b[0;34m)\u001b[0m\u001b[0;34m\u001b[0m\u001b[0;34m\u001b[0m\u001b[0m\n",
      "\u001b[0;31mNameError\u001b[0m: name 'make_emb_vecs' is not defined"
     ]
    }
   ],
   "source": [
    "fal_train_feats = make_emb_vecs(train_fal_df,tokenizer,bert,\"results/climate_train.pt\",text_col = \"source_article\")\n",
    "fal_dev_feats = make_emb_vecs(dev_fal_df,tokenizer,bert,\"results/climate_dev.pt\",text_col = \"source_article\")\n",
    "fal_test_feats = make_emb_vecs(test_fal_df,tokenizer,bert,\"results/climate_test.pt\",text_col = \"source_article\")"
   ]
  },
  {
   "cell_type": "code",
   "execution_count": 13,
   "id": "da879964-0a3b-44be-8dae-5a37cfb69fe6",
   "metadata": {},
   "outputs": [],
   "source": [
    "# pre-train on\n",
    "from dataset_bert import FallacyDatasetEmb\n",
    "from pathlib import Path\n",
    "data_train = FallacyDatasetEmb(Path(\"data_logical_fallacy\",\"climate_train.csv\"),\n",
    "                            Path(\"results\",\"climate_train.pt\"),\n",
    "                            label_header=\"logical_fallacies\")\n",
    "data_dev = FallacyDatasetEmb(Path(\"data_logical_fallacy\",\"climate_dev.csv\"),\n",
    "                            Path(\"results\",\"climate_dev.pt\"),\n",
    "                            label_header=\"logical_fallacies\")\n",
    "data_dev = FallacyDatasetEmb(Path(\"data_logical_fallacy\",\"climate_test.csv\"),\n",
    "                            Path(\"results\",\"climate_test.pt\"),\n",
    "                            label_header=\"logical_fallacies\")"
   ]
  },
  {
   "cell_type": "code",
   "execution_count": 14,
   "id": "2ec21b03-33bf-4a82-8fc9-c9c8f16d1def",
   "metadata": {},
   "outputs": [],
   "source": [
    "from torch.utils.data import DataLoader\n",
    "\n",
    "fal_train_loader = DataLoader(data_train,batch_size=16,shuffle=True)\n",
    "fal_dev_loader = DataLoader(data_dev,batch_size=16,shuffle=True)"
   ]
  },
  {
   "cell_type": "code",
   "execution_count": 15,
   "id": "8e36bb86-ece2-44e3-ba7f-0a50c0369e36",
   "metadata": {
    "scrolled": true,
    "tags": []
   },
   "outputs": [
    {
     "name": "stderr",
     "output_type": "stream",
     "text": [
      "100%|█████████████████████████████████████████| 200/200 [00:13<00:00, 14.63it/s]\n"
     ]
    }
   ],
   "source": [
    "from torch.optim import AdamW\n",
    "from new_model import FallacyModel\n",
    "from torch.nn import CrossEntropyLoss\n",
    "from sklearn.metrics import f1_score, accuracy_score\n",
    "\n",
    "\n",
    "device = 'cuda' if torch.cuda.is_available() else 'cpu' \n",
    "\n",
    "fmodel = FallacyModel(n_hiddens=20).to(device)\n",
    "optim = AdamW(fmodel.parameters(), lr = 1e-4,weight_decay = 1e-2)\n",
    "loss_fn = CrossEntropyLoss()\n",
    "\n",
    "fmodel.train()\n",
    "train_losses = []\n",
    "train_accs = []\n",
    "dev_losses = []\n",
    "dev_accs = []\n",
    "\n",
    "for epoch in tqdm(range(200)): \n",
    "    preds = []\n",
    "    labs = []\n",
    "    losses = [] \n",
    "    for batch in fal_train_loader: \n",
    "        optim.zero_grad()\n",
    "        labels = batch['label'].to(device)\n",
    "        feats = batch['feats'].to(device)\n",
    "\n",
    "        out = fmodel(feats)\n",
    "        loss = loss_fn(out,labels)\n",
    "        loss.backward()\n",
    "        optim.step()\n",
    "        preds += torch.argmax(out,dim=1).cpu().tolist() \n",
    "        labs += batch['label'].tolist()\n",
    "        losses.append(float(loss.cpu()))\n",
    "    train_losses.append(sum(losses)/len(losses))\n",
    "    train_accs.append(accuracy_score(labs,preds))\n",
    "    # test model on dev set \n",
    "    fmodel.eval()\n",
    "    dev_los_acc = []\n",
    "    dev_preds = []\n",
    "    dev_labels = []\n",
    "    for batch in fal_dev_loader: \n",
    "        labels = batch['label'].to(device)\n",
    "        feats = batch['feats'].to(device)\n",
    "\n",
    "        out = fmodel(feats)\n",
    "        loss = loss_fn(out,labels)\n",
    "        dev_preds += torch.argmax(out,dim=1).cpu().tolist() \n",
    "        dev_labels += batch['label'].tolist()\n",
    "        dev_los_acc.append(float(loss.cpu()))\n",
    "    dev_losses.append(sum(dev_los_acc)/len(dev_los_acc))\n",
    "    dev_accs.append(accuracy_score(dev_labels,dev_preds))\n",
    "    fmodel.train()\n",
    "    # print(f'at epoch {epoch}, train L: {train_losses[-1]}, Dev L: {dev_losses[-1]}') \n",
    "    \n",
    "\n"
   ]
  },
  {
   "cell_type": "code",
   "execution_count": 16,
   "id": "f6446e1f-88b9-4b5a-9d96-5123d17c6fbb",
   "metadata": {},
   "outputs": [
    {
     "data": {
      "text/plain": [
       "[<matplotlib.lines.Line2D at 0x7fd897ede8e0>]"
      ]
     },
     "execution_count": 16,
     "metadata": {},
     "output_type": "execute_result"
    },
    {
     "data": {
      "image/png": "[encoded data removed]",
      "text/plain": [
       "<Figure size 432x288 with 1 Axes>"
      ]
     },
     "metadata": {
      "needs_background": "light"
     },
     "output_type": "display_data"
    },
    {
     "data": {
      "image/png": "[encoded data removed]",
      "text/plain": [
       "<Figure size 432x288 with 1 Axes>"
      ]
     },
     "metadata": {
      "needs_background": "light"
     },
     "output_type": "display_data"
    }
   ],
   "source": [
    "from matplotlib import pyplot as plt \n",
    "\n",
    "plt.plot(list(range(len(train_losses))),train_losses)\n",
    "plt.plot(list(range(len(train_losses))),dev_losses)\n",
    "\n",
    "plt.figure()\n",
    "plt.plot(list(range(len(train_losses))),train_accs)\n",
    "plt.plot(list(range(len(train_losses))),dev_accs)\n"
   ]
  },
  {
   "cell_type": "code",
   "execution_count": 17,
   "id": "5ecdf4d6-15b7-4a23-90ff-07e06917f6e4",
   "metadata": {},
   "outputs": [
    {
     "ename": "NameError",
     "evalue": "name 'dev_fal_df' is not defined",
     "output_type": "error",
     "traceback": [
      "\u001b[0;31m---------------------------------------------------------------------------\u001b[0m",
      "\u001b[0;31mNameError\u001b[0m                                 Traceback (most recent call last)",
      "\u001b[0;32m/var/folders/t2/zj8pbr4n4lqgcxpzd2lbwk2w0000gn/T/ipykernel_99739/4030488617.py\u001b[0m in \u001b[0;36m<module>\u001b[0;34m\u001b[0m\n\u001b[0;32m----> 1\u001b[0;31m \u001b[0mlen\u001b[0m\u001b[0;34m(\u001b[0m\u001b[0mdev_fal_df\u001b[0m\u001b[0;34m.\u001b[0m\u001b[0mlogical_fallacies\u001b[0m\u001b[0;34m.\u001b[0m\u001b[0munique\u001b[0m\u001b[0;34m(\u001b[0m\u001b[0;34m)\u001b[0m\u001b[0;34m)\u001b[0m\u001b[0;34m\u001b[0m\u001b[0;34m\u001b[0m\u001b[0m\n\u001b[0m",
      "\u001b[0;31mNameError\u001b[0m: name 'dev_fal_df' is not defined"
     ]
    }
   ],
   "source": [
    "len(dev_fal_df.logical_fallacies.unique())"
   ]
  },
  {
   "cell_type": "code",
   "execution_count": 177,
   "id": "56ef2a4e-dbfc-49ba-97a6-e1aae014bf5e",
   "metadata": {},
   "outputs": [
    {
     "data": {
      "text/plain": [
       "0.5724276900291443"
      ]
     },
     "execution_count": 177,
     "metadata": {},
     "output_type": "execute_result"
    }
   ],
   "source": [
    "float(loss.cpu())"
   ]
  },
  {
   "cell_type": "code",
   "execution_count": null,
   "id": "677ad03e-419a-4faf-9bb3-713a566d0605",
   "metadata": {},
   "outputs": [],
   "source": []
  },
  {
   "cell_type": "code",
   "execution_count": 18,
   "id": "aa700989-7cba-4d83-95a1-ef36652c6a7b",
   "metadata": {},
   "outputs": [
    {
     "data": {
      "application/vnd.jupyter.widget-view+json": {
       "model_id": "0cbe9bd1dce84d3585658c299f63aefe",
       "version_major": 2,
       "version_minor": 0
      },
      "text/plain": [
       "0it [00:00, ?it/s]"
      ]
     },
     "metadata": {},
     "output_type": "display_data"
    },
    {
     "data": {
      "application/vnd.jupyter.widget-view+json": {
       "model_id": "02b02226fb2542f1afb2296ac4af10c9",
       "version_major": 2,
       "version_minor": 0
      },
      "text/plain": [
       "0it [00:00, ?it/s]"
      ]
     },
     "metadata": {},
     "output_type": "display_data"
    },
    {
     "data": {
      "application/vnd.jupyter.widget-view+json": {
       "model_id": "cb7236a29be04e6e8ceef94da7ec75a3",
       "version_major": 2,
       "version_minor": 0
      },
      "text/plain": [
       "0it [00:00, ?it/s]"
      ]
     },
     "metadata": {},
     "output_type": "display_data"
    }
   ],
   "source": [
    "# create datasets\n",
    "from dataset_bert import ProppyDatasetEmb\n",
    "proppy_train_set = ProppyDatasetEmb(filepath=Path(\"data_proppy/proppy_1.0.train.tsv\"),embspath=\"results/proppy_train.pt\")\n",
    "proppy_dev_set = ProppyDatasetEmb(filepath=Path(\"data_proppy/proppy_1.0.dev.tsv\"),embspath=\"results/proppy_dev.pt\")\n",
    "proppy_test_set = ProppyDatasetEmb(filepath=Path(\"data_proppy/proppy_1.0.test.tsv\"),embspath=\"results/proppy_test.pt\")\n",
    "\n"
   ]
  },
  {
   "cell_type": "code",
   "execution_count": 19,
   "id": "98289d10-4d69-4b36-a28f-7c8ae5b822a1",
   "metadata": {},
   "outputs": [],
   "source": [
    "prop_train_loader = DataLoader(proppy_train_set,batch_size=16,shuffle=True)\n",
    "prop_dev_loader = DataLoader(proppy_dev_set,batch_size=16,shuffle=True)\n"
   ]
  },
  {
   "cell_type": "code",
   "execution_count": 20,
   "id": "efe5fdd9-8c99-4da0-bbba-7175a6cd1fcb",
   "metadata": {},
   "outputs": [],
   "source": [
    "# train model from  past thing \n"
   ]
  },
  {
   "cell_type": "code",
   "execution_count": 87,
   "id": "d07c7bdf-db6c-40be-8975-d4f9b6d95ccf",
   "metadata": {
    "scrolled": true,
    "tags": []
   },
   "outputs": [],
   "source": [
    "from torch.optim import AdamW\n",
    "from new_model import FallacyModel\n",
    "from torch.nn import BCELoss\n",
    "from sklearn.metrics import f1_score, accuracy_score\n",
    "from new_model import ProppyModel\n",
    "\n",
    "\n",
    "pmodel = ProppyModel(from_model =fmodel,dropout_p=0.3)\n",
    "# pmodel = ProppyModel(n_hiddens=200)\n",
    "\n",
    "\n",
    "train_losses = []\n",
    "train_accs = []\n",
    "dev_losses = []\n",
    "dev_accs = []\n",
    "pos_portion = []"
   ]
  },
  {
   "cell_type": "code",
   "execution_count": 49,
   "id": "abdbfa1e-b1fc-4419-b7e2-f5629ad2936f",
   "metadata": {
    "scrolled": true,
    "tags": []
   },
   "outputs": [
    {
     "name": "stderr",
     "output_type": "stream",
     "text": [
      "100%|█████████████████████████████████████████| 200/200 [15:23<00:00,  4.62s/it]\n"
     ]
    }
   ],
   "source": [
    "weight_prop = .8\n",
    "device = 'cuda' if torch.cuda.is_available() else 'cpu' \n",
    "optim = AdamW(pmodel.parameters(), lr = 3e-5,weight_decay = 1e-8)\n",
    "loss_fn = CrossEntropyLoss(weight=torch.Tensor([1-weight_prop,weight_prop]))\n",
    "dev_loss_fn = CrossEntropyLoss()\n",
    "pmodel.train()\n",
    "\n",
    "\n",
    "\n",
    "for epoch in tqdm(range(200)): \n",
    "    preds = []\n",
    "    labs = []\n",
    "    losses = [] \n",
    "    for batch in prop_train_loader: \n",
    "        optim.zero_grad()\n",
    "        labels = batch['label'].to(device)\n",
    "        feats = batch['feats'].to(device)\n",
    "        \n",
    "\n",
    "        out = pmodel(feats)\n",
    "        loss = loss_fn(out,labels)\n",
    "        loss.backward()\n",
    "        optim.step()\n",
    "        preds += torch.argmax(out,dim=1).cpu().tolist() \n",
    "        labs += batch['label'].tolist()\n",
    "        losses.append(float(loss.cpu()))\n",
    "    train_losses.append(sum(losses)/len(losses))\n",
    "    train_accs.append(accuracy_score(labs,preds))\n",
    "    # test model on dev set \n",
    "    pmodel.eval()\n",
    "    dev_los_acc = []\n",
    "    dev_preds = []\n",
    "    dev_labels = []\n",
    "    for batch in prop_dev_loader: \n",
    "        labels = batch['label'].to(device)\n",
    "        feats = batch['feats'].to(device)\n",
    "\n",
    "        out = pmodel(feats)\n",
    "        loss = loss_fn(out,labels)\n",
    "        dev_preds += torch.argmax(out,dim=1).cpu().tolist() \n",
    "        dev_labels += batch['label'].tolist()\n",
    "        dev_los_acc.append(float(loss.cpu()))\n",
    "    dev_losses.append(sum(dev_los_acc)/len(dev_los_acc))\n",
    "    dev_accs.append(accuracy_score(dev_labels,dev_preds))\n",
    "    pos_portion.append(sum(dev_preds)/len(dev_preds))\n",
    "    pmodel.train()\n",
    "    # print(f'at epoch {epoch}, train L: {train_losses[-1]}, Dev L: {dev_losses[-1]}') \n",
    "    "
   ]
  },
  {
   "cell_type": "code",
   "execution_count": 50,
   "id": "a396dca9-4141-4318-b572-7db42efc7192",
   "metadata": {},
   "outputs": [
    {
     "name": "stderr",
     "output_type": "stream",
     "text": [
      "[autoreload of dataset_bert failed: Traceback (most recent call last):\n",
      "  File \"/Users/zachary/opt/anaconda3/envs/eecs_nlp/lib/python3.9/site-packages/IPython/extensions/autoreload.py\", line 245, in check\n",
      "    superreload(m, reload, self.old_objects)\n",
      "  File \"/Users/zachary/opt/anaconda3/envs/eecs_nlp/lib/python3.9/site-packages/IPython/extensions/autoreload.py\", line 394, in superreload\n",
      "    module = reload(module)\n",
      "  File \"/Users/zachary/opt/anaconda3/envs/eecs_nlp/lib/python3.9/imp.py\", line 314, in reload\n",
      "    return importlib.reload(module)\n",
      "  File \"/Users/zachary/opt/anaconda3/envs/eecs_nlp/lib/python3.9/importlib/__init__.py\", line 169, in reload\n",
      "    _bootstrap._exec(spec, module)\n",
      "  File \"<frozen importlib._bootstrap>\", line 613, in _exec\n",
      "  File \"<frozen importlib._bootstrap_external>\", line 846, in exec_module\n",
      "  File \"<frozen importlib._bootstrap_external>\", line 983, in get_code\n",
      "  File \"<frozen importlib._bootstrap_external>\", line 913, in source_to_code\n",
      "  File \"<frozen importlib._bootstrap>\", line 228, in _call_with_frames_removed\n",
      "  File \"/Users/zachary/Documents/eecs_487/prop_detect/dataset_bert.py\", line 27\n",
      "    self.data.append({\n",
      "    ^\n",
      "IndentationError: expected an indented block\n",
      "]\n"
     ]
    },
    {
     "data": {
      "text/plain": [
       "<matplotlib.legend.Legend at 0x7fd8927c6a00>"
      ]
     },
     "execution_count": 50,
     "metadata": {},
     "output_type": "execute_result"
    },
    {
     "data": {
      "image/png": "[encoded data removed]",
      "text/plain": [
       "<Figure size 432x288 with 1 Axes>"
      ]
     },
     "metadata": {
      "needs_background": "light"
     },
     "output_type": "display_data"
    },
    {
     "data": {
      "image/png": "[encoded data removed]",
      "text/plain": [
       "<Figure size 432x288 with 1 Axes>"
      ]
     },
     "metadata": {
      "needs_background": "light"
     },
     "output_type": "display_data"
    }
   ],
   "source": [
    "from matplotlib import pyplot as plt \n",
    "\n",
    "plt.plot(list(range(len(train_losses))),train_losses)\n",
    "plt.plot(list(range(len(train_losses))),dev_losses)\n",
    "plt.legend(['train loss','dev loss'])\n",
    "\n",
    "plt.figure()\n",
    "plt.plot(list(range(len(train_losses))),train_accs)\n",
    "plt.plot(list(range(len(train_losses))),dev_accs)\n",
    "plt.legend(['train accuracy','dev accuracy'])\n"
   ]
  },
  {
   "cell_type": "code",
   "execution_count": 47,
   "id": "b6ed2b59-2963-4ae3-89cc-9b3f89fb002f",
   "metadata": {},
   "outputs": [
    {
     "data": {
      "text/plain": [
       "0.9278048780487805"
      ]
     },
     "execution_count": 47,
     "metadata": {},
     "output_type": "execute_result"
    }
   ],
   "source": [
    "dev_accs[-1]"
   ]
  },
  {
   "cell_type": "code",
   "execution_count": 38,
   "id": "0d8b8639-f634-48eb-99ce-f0ca547a55bf",
   "metadata": {},
   "outputs": [],
   "source": [
    "torch.save(pmodel,\"results/basic_model_epoch_lorg_500_ac.920.pt\")"
   ]
  },
  {
   "cell_type": "markdown",
   "id": "7c0c918e-eb09-4ea1-a3dd-a0002c97fdc3",
   "metadata": {},
   "source": [
    "# Test models on balanced dataset "
   ]
  },
  {
   "cell_type": "code",
   "execution_count": 60,
   "id": "0ec9b0ae-165f-444d-8a92-8978b6c009cc",
   "metadata": {},
   "outputs": [
    {
     "data": {
      "application/vnd.jupyter.widget-view+json": {
       "model_id": "522593ed83b34a038f066a85731009dd",
       "version_major": 2,
       "version_minor": 0
      },
      "text/plain": [
       "0it [00:00, ?it/s]"
      ]
     },
     "metadata": {},
     "output_type": "display_data"
    },
    {
     "data": {
      "application/vnd.jupyter.widget-view+json": {
       "model_id": "d93b14207c7a411295fcf876690b90ca",
       "version_major": 2,
       "version_minor": 0
      },
      "text/plain": [
       "0it [00:00, ?it/s]"
      ]
     },
     "metadata": {},
     "output_type": "display_data"
    },
    {
     "data": {
      "application/vnd.jupyter.widget-view+json": {
       "model_id": "b0ad0695f9904002810082cb81cd8549",
       "version_major": 2,
       "version_minor": 0
      },
      "text/plain": [
       "0it [00:00, ?it/s]"
      ]
     },
     "metadata": {},
     "output_type": "display_data"
    }
   ],
   "source": [
    "# balanced datasets  \n",
    "from sklearn.metrics import precision_recall_fscore_support\n",
    "balanced_ds = {}\n",
    "balanced_ds['train'] = ProppyDatasetEmb(filepath=Path(\"data_proppy/proppy_1.0.train.tsv\")\n",
    "                                        ,embspath=\"results/proppy_train.pt\",balance=True)\n",
    "balanced_ds['dev'] = ProppyDatasetEmb(filepath=Path(\"data_proppy/proppy_1.0.dev.tsv\")\n",
    "                                         ,embspath=\"results/proppy_dev.pt\",balance=True)\n",
    "balanced_ds['test'] = ProppyDatasetEmb(filepath=Path(\"data_proppy/proppy_1.0.test.tsv\")\n",
    "                                        ,embspath=\"results/proppy_test.pt\",balance=True)    "
   ]
  },
  {
   "cell_type": "code",
   "execution_count": 80,
   "id": "c1454a98-d757-438b-9cf3-7288f661fee1",
   "metadata": {},
   "outputs": [],
   "source": [
    "from sklearn.metrics import confusion_matrix\n",
    "\n",
    "\n",
    "def get_stats(model,datasets):\n",
    "    outputs = {}\n",
    "    for name,ds in datasets.items(): \n",
    "        loader = DataLoader(ds,batch_size=32) \n",
    "        model.eval()\n",
    "        all_labs = []\n",
    "        all_preds= [] \n",
    "        for batch in loader: \n",
    "            labels = batch['label']\n",
    "            feats = batch['feats']\n",
    "\n",
    "            outs = model(feats)\n",
    "            all_preds += torch.argmax(outs,dim=1).tolist() \n",
    "            all_labs += labels.tolist()\n",
    "        cm = confusion_matrix(all_labs,all_preds)\n",
    "        tp,fn,fp = cm[0][0], cm[0][1], cm[1][0]\n",
    "        stats = {}\n",
    "        prec = tp/(tp+fp)\n",
    "        recall = tp/(tp+fn)\n",
    "        stats['f1'] = 2*(prec * recall)/(prec +recall)\n",
    "        stats['precision'] = prec \n",
    "        stats['recall'] = recall\n",
    "        outputs[name] = stats \n",
    "    return pd.DataFrame(outputs).transpose()\n"
   ]
  },
  {
   "cell_type": "code",
   "execution_count": 86,
   "id": "0ace0d6c-aa00-4cc9-9795-b7fd0e5782f2",
   "metadata": {},
   "outputs": [
    {
     "data": {
      "text/html": [
       "<div>\n",
       "<style scoped>\n",
       "    .dataframe tbody tr th:only-of-type {\n",
       "        vertical-align: middle;\n",
       "    }\n",
       "\n",
       "    .dataframe tbody tr th {\n",
       "        vertical-align: top;\n",
       "    }\n",
       "\n",
       "    .dataframe thead th {\n",
       "        text-align: right;\n",
       "    }\n",
       "</style>\n",
       "<table border=\"1\" class=\"dataframe\">\n",
       "  <thead>\n",
       "    <tr style=\"text-align: right;\">\n",
       "      <th></th>\n",
       "      <th>f1</th>\n",
       "      <th>precision</th>\n",
       "      <th>recall</th>\n",
       "    </tr>\n",
       "  </thead>\n",
       "  <tbody>\n",
       "    <tr>\n",
       "      <th>train</th>\n",
       "      <td>0.961937</td>\n",
       "      <td>0.976683</td>\n",
       "      <td>0.947630</td>\n",
       "    </tr>\n",
       "    <tr>\n",
       "      <th>dev</th>\n",
       "      <td>0.960789</td>\n",
       "      <td>0.974272</td>\n",
       "      <td>0.947674</td>\n",
       "    </tr>\n",
       "    <tr>\n",
       "      <th>test</th>\n",
       "      <td>0.957195</td>\n",
       "      <td>0.968893</td>\n",
       "      <td>0.945777</td>\n",
       "    </tr>\n",
       "  </tbody>\n",
       "</table>\n",
       "</div>"
      ],
      "text/plain": [
       "             f1  precision    recall\n",
       "train  0.961937   0.976683  0.947630\n",
       "dev    0.960789   0.974272  0.947674\n",
       "test   0.957195   0.968893  0.945777"
      ]
     },
     "execution_count": 86,
     "metadata": {},
     "output_type": "execute_result"
    }
   ],
   "source": [
    "trans_mod_path = \"results/transfered_model_epoch_900_ac.935.pt\"\n",
    "trans_model = torch.load(model_path)\n",
    "\n",
    "trans_mod_stats = get_stats(trans_model,balanced_ds)\n",
    "trans_mod_stats"
   ]
  },
  {
   "cell_type": "code",
   "execution_count": 85,
   "id": "f000dcc0-6c17-411e-8394-7fcddfc09aaa",
   "metadata": {},
   "outputs": [
    {
     "data": {
      "text/html": [
       "<div>\n",
       "<style scoped>\n",
       "    .dataframe tbody tr th:only-of-type {\n",
       "        vertical-align: middle;\n",
       "    }\n",
       "\n",
       "    .dataframe tbody tr th {\n",
       "        vertical-align: top;\n",
       "    }\n",
       "\n",
       "    .dataframe thead th {\n",
       "        text-align: right;\n",
       "    }\n",
       "</style>\n",
       "<table border=\"1\" class=\"dataframe\">\n",
       "  <thead>\n",
       "    <tr style=\"text-align: right;\">\n",
       "      <th></th>\n",
       "      <th>f1</th>\n",
       "      <th>precision</th>\n",
       "      <th>recall</th>\n",
       "    </tr>\n",
       "  </thead>\n",
       "  <tbody>\n",
       "    <tr>\n",
       "      <th>train</th>\n",
       "      <td>0.944783</td>\n",
       "      <td>0.975124</td>\n",
       "      <td>0.916273</td>\n",
       "    </tr>\n",
       "    <tr>\n",
       "      <th>dev</th>\n",
       "      <td>0.946591</td>\n",
       "      <td>0.971527</td>\n",
       "      <td>0.922902</td>\n",
       "    </tr>\n",
       "    <tr>\n",
       "      <th>test</th>\n",
       "      <td>0.942889</td>\n",
       "      <td>0.969918</td>\n",
       "      <td>0.917326</td>\n",
       "    </tr>\n",
       "  </tbody>\n",
       "</table>\n",
       "</div>"
      ],
      "text/plain": [
       "             f1  precision    recall\n",
       "train  0.944783   0.975124  0.916273\n",
       "dev    0.946591   0.971527  0.922902\n",
       "test   0.942889   0.969918  0.917326"
      ]
     },
     "execution_count": 85,
     "metadata": {},
     "output_type": "execute_result"
    }
   ],
   "source": [
    "reg_model_path = \"results/basic_model_epoch_800_ac.910.pt\"\n",
    "reg_model = torch.load(reg_model_path)\n",
    "\n",
    "reg_mod_stats = get_stats(reg_model,balanced_ds)\n",
    "reg_mod_stats"
   ]
  },
  {
   "cell_type": "code",
   "execution_count": null,
   "id": "ddc51db9-a089-4dee-9308-bb2e034f6df2",
   "metadata": {},
   "outputs": [],
   "source": []
  }
 ],
 "metadata": {
  "kernelspec": {
   "display_name": "Python 3 (ipykernel)",
   "language": "python",
   "name": "python3"
  },
  "language_info": {
   "codemirror_mode": {
    "name": "ipython",
    "version": 3
   },
   "file_extension": ".py",
   "mimetype": "text/x-python",
   "name": "python",
   "nbconvert_exporter": "python",
   "pygments_lexer": "ipython3",
   "version": "3.9.7"
  }
 },
 "nbformat": 4,
 "nbformat_minor": 5
}
